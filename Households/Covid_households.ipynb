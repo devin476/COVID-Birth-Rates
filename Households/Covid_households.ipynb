{
 "cells": [
  {
   "cell_type": "code",
   "execution_count": 16,
   "id": "32ce7dc1",
   "metadata": {},
   "outputs": [],
   "source": [
    "import pandas as pd\n",
    "import numpy as np \n",
    "import scipy.stats as st\n",
    "import matplotlib.pyplot as plt\n",
    "%matplotlib inline"
   ]
  },
  {
   "cell_type": "code",
   "execution_count": 39,
   "id": "f3b95d5a",
   "metadata": {},
   "outputs": [],
   "source": [
    "households_by_race = pd.read_excel(\"Covid_households_by_race.xlsx\")"
   ]
  },
  {
   "cell_type": "code",
   "execution_count": 40,
   "id": "3a885a49",
   "metadata": {},
   "outputs": [
    {
     "data": {
      "text/html": [
       "<div>\n",
       "<style scoped>\n",
       "    .dataframe tbody tr th:only-of-type {\n",
       "        vertical-align: middle;\n",
       "    }\n",
       "\n",
       "    .dataframe tbody tr th {\n",
       "        vertical-align: top;\n",
       "    }\n",
       "\n",
       "    .dataframe thead th {\n",
       "        text-align: right;\n",
       "    }\n",
       "</style>\n",
       "<table border=\"1\" class=\"dataframe\">\n",
       "  <thead>\n",
       "    <tr style=\"text-align: right;\">\n",
       "      <th></th>\n",
       "      <th>Year</th>\n",
       "      <th>Total Two parent families</th>\n",
       "      <th>Married</th>\n",
       "      <th>Unmarried</th>\n",
       "      <th>Unnamed: 4</th>\n",
       "      <th>Total One parent families</th>\n",
       "      <th>Mother only</th>\n",
       "      <th>Father only</th>\n",
       "    </tr>\n",
       "  </thead>\n",
       "  <tbody>\n",
       "    <tr>\n",
       "      <th>0</th>\n",
       "      <td>NaN</td>\n",
       "      <td>NaN</td>\n",
       "      <td>NaN</td>\n",
       "      <td>NaN</td>\n",
       "      <td>NaN</td>\n",
       "      <td>NaN</td>\n",
       "      <td>NaN</td>\n",
       "      <td>NaN</td>\n",
       "    </tr>\n",
       "    <tr>\n",
       "      <th>1</th>\n",
       "      <td>All races</td>\n",
       "      <td>NaN</td>\n",
       "      <td>NaN</td>\n",
       "      <td>NaN</td>\n",
       "      <td>NaN</td>\n",
       "      <td>NaN</td>\n",
       "      <td>NaN</td>\n",
       "      <td>NaN</td>\n",
       "    </tr>\n",
       "    <tr>\n",
       "      <th>2</th>\n",
       "      <td>2022</td>\n",
       "      <td>26105.0</td>\n",
       "      <td>24040.0</td>\n",
       "      <td>2065.0</td>\n",
       "      <td>NaN</td>\n",
       "      <td>10889.0</td>\n",
       "      <td>8657.0</td>\n",
       "      <td>2232.0</td>\n",
       "    </tr>\n",
       "    <tr>\n",
       "      <th>3</th>\n",
       "      <td>2021</td>\n",
       "      <td>25953.0</td>\n",
       "      <td>23992.0</td>\n",
       "      <td>1961.0</td>\n",
       "      <td>NaN</td>\n",
       "      <td>11091.0</td>\n",
       "      <td>8797.0</td>\n",
       "      <td>2294.0</td>\n",
       "    </tr>\n",
       "    <tr>\n",
       "      <th>4</th>\n",
       "      <td>2020</td>\n",
       "      <td>26161.0</td>\n",
       "      <td>24477.0</td>\n",
       "      <td>1684.0</td>\n",
       "      <td>NaN</td>\n",
       "      <td>10720.0</td>\n",
       "      <td>8625.0</td>\n",
       "      <td>2094.0</td>\n",
       "    </tr>\n",
       "    <tr>\n",
       "      <th>5</th>\n",
       "      <td>2019</td>\n",
       "      <td>26373.0</td>\n",
       "      <td>24509.0</td>\n",
       "      <td>1864.0</td>\n",
       "      <td>NaN</td>\n",
       "      <td>11008.0</td>\n",
       "      <td>8880.0</td>\n",
       "      <td>2128.0</td>\n",
       "    </tr>\n",
       "    <tr>\n",
       "      <th>6</th>\n",
       "      <td>NaN</td>\n",
       "      <td>NaN</td>\n",
       "      <td>NaN</td>\n",
       "      <td>NaN</td>\n",
       "      <td>NaN</td>\n",
       "      <td>NaN</td>\n",
       "      <td>NaN</td>\n",
       "      <td>NaN</td>\n",
       "    </tr>\n",
       "    <tr>\n",
       "      <th>7</th>\n",
       "      <td>NaN</td>\n",
       "      <td>NaN</td>\n",
       "      <td>NaN</td>\n",
       "      <td>NaN</td>\n",
       "      <td>NaN</td>\n",
       "      <td>NaN</td>\n",
       "      <td>NaN</td>\n",
       "      <td>NaN</td>\n",
       "    </tr>\n",
       "    <tr>\n",
       "      <th>8</th>\n",
       "      <td>White</td>\n",
       "      <td>NaN</td>\n",
       "      <td>NaN</td>\n",
       "      <td>NaN</td>\n",
       "      <td>NaN</td>\n",
       "      <td>NaN</td>\n",
       "      <td>NaN</td>\n",
       "      <td>NaN</td>\n",
       "    </tr>\n",
       "    <tr>\n",
       "      <th>9</th>\n",
       "      <td>2022</td>\n",
       "      <td>20645.0</td>\n",
       "      <td>19075.0</td>\n",
       "      <td>1569.0</td>\n",
       "      <td>NaN</td>\n",
       "      <td>6855.0</td>\n",
       "      <td>5260.0</td>\n",
       "      <td>1596.0</td>\n",
       "    </tr>\n",
       "    <tr>\n",
       "      <th>10</th>\n",
       "      <td>2021</td>\n",
       "      <td>20503.0</td>\n",
       "      <td>19060.0</td>\n",
       "      <td>1443.0</td>\n",
       "      <td>NaN</td>\n",
       "      <td>7051.0</td>\n",
       "      <td>5381.0</td>\n",
       "      <td>1670.0</td>\n",
       "    </tr>\n",
       "    <tr>\n",
       "      <th>11</th>\n",
       "      <td>2020</td>\n",
       "      <td>20712.0</td>\n",
       "      <td>19425.0</td>\n",
       "      <td>1287.0</td>\n",
       "      <td>NaN</td>\n",
       "      <td>6901.0</td>\n",
       "      <td>5341.0</td>\n",
       "      <td>1560.0</td>\n",
       "    </tr>\n",
       "    <tr>\n",
       "      <th>12</th>\n",
       "      <td>2019</td>\n",
       "      <td>21004.0</td>\n",
       "      <td>19589.0</td>\n",
       "      <td>1415.0</td>\n",
       "      <td>NaN</td>\n",
       "      <td>7116.0</td>\n",
       "      <td>5544.0</td>\n",
       "      <td>1572.0</td>\n",
       "    </tr>\n",
       "    <tr>\n",
       "      <th>13</th>\n",
       "      <td>NaN</td>\n",
       "      <td>NaN</td>\n",
       "      <td>NaN</td>\n",
       "      <td>NaN</td>\n",
       "      <td>NaN</td>\n",
       "      <td>NaN</td>\n",
       "      <td>NaN</td>\n",
       "      <td>NaN</td>\n",
       "    </tr>\n",
       "    <tr>\n",
       "      <th>14</th>\n",
       "      <td>NaN</td>\n",
       "      <td>NaN</td>\n",
       "      <td>NaN</td>\n",
       "      <td>NaN</td>\n",
       "      <td>NaN</td>\n",
       "      <td>NaN</td>\n",
       "      <td>NaN</td>\n",
       "      <td>NaN</td>\n",
       "    </tr>\n",
       "    <tr>\n",
       "      <th>15</th>\n",
       "      <td>Black</td>\n",
       "      <td>NaN</td>\n",
       "      <td>NaN</td>\n",
       "      <td>NaN</td>\n",
       "      <td>NaN</td>\n",
       "      <td>NaN</td>\n",
       "      <td>NaN</td>\n",
       "      <td>NaN</td>\n",
       "    </tr>\n",
       "    <tr>\n",
       "      <th>16</th>\n",
       "      <td>2022</td>\n",
       "      <td>2289.0</td>\n",
       "      <td>1952.0</td>\n",
       "      <td>337.0</td>\n",
       "      <td>NaN</td>\n",
       "      <td>3083.0</td>\n",
       "      <td>2661.0</td>\n",
       "      <td>422.0</td>\n",
       "    </tr>\n",
       "    <tr>\n",
       "      <th>17</th>\n",
       "      <td>2021</td>\n",
       "      <td>2269.0</td>\n",
       "      <td>1963.0</td>\n",
       "      <td>305.0</td>\n",
       "      <td>NaN</td>\n",
       "      <td>3115.0</td>\n",
       "      <td>2693.0</td>\n",
       "      <td>422.0</td>\n",
       "    </tr>\n",
       "    <tr>\n",
       "      <th>18</th>\n",
       "      <td>2020</td>\n",
       "      <td>2263.0</td>\n",
       "      <td>2023.0</td>\n",
       "      <td>239.0</td>\n",
       "      <td>NaN</td>\n",
       "      <td>2976.0</td>\n",
       "      <td>2622.0</td>\n",
       "      <td>354.0</td>\n",
       "    </tr>\n",
       "    <tr>\n",
       "      <th>19</th>\n",
       "      <td>2019</td>\n",
       "      <td>2211.0</td>\n",
       "      <td>1934.0</td>\n",
       "      <td>277.0</td>\n",
       "      <td>NaN</td>\n",
       "      <td>2960.0</td>\n",
       "      <td>2581.0</td>\n",
       "      <td>379.0</td>\n",
       "    </tr>\n",
       "    <tr>\n",
       "      <th>20</th>\n",
       "      <td>NaN</td>\n",
       "      <td>NaN</td>\n",
       "      <td>NaN</td>\n",
       "      <td>NaN</td>\n",
       "      <td>NaN</td>\n",
       "      <td>NaN</td>\n",
       "      <td>NaN</td>\n",
       "      <td>NaN</td>\n",
       "    </tr>\n",
       "    <tr>\n",
       "      <th>21</th>\n",
       "      <td>NaN</td>\n",
       "      <td>NaN</td>\n",
       "      <td>NaN</td>\n",
       "      <td>NaN</td>\n",
       "      <td>NaN</td>\n",
       "      <td>NaN</td>\n",
       "      <td>NaN</td>\n",
       "      <td>NaN</td>\n",
       "    </tr>\n",
       "    <tr>\n",
       "      <th>22</th>\n",
       "      <td>Hispanic origin</td>\n",
       "      <td>NaN</td>\n",
       "      <td>NaN</td>\n",
       "      <td>NaN</td>\n",
       "      <td>NaN</td>\n",
       "      <td>NaN</td>\n",
       "      <td>NaN</td>\n",
       "      <td>NaN</td>\n",
       "    </tr>\n",
       "    <tr>\n",
       "      <th>23</th>\n",
       "      <td>2022</td>\n",
       "      <td>5544.0</td>\n",
       "      <td>4837.0</td>\n",
       "      <td>707.0</td>\n",
       "      <td>NaN</td>\n",
       "      <td>2672.0</td>\n",
       "      <td>2204.0</td>\n",
       "      <td>468.0</td>\n",
       "    </tr>\n",
       "    <tr>\n",
       "      <th>24</th>\n",
       "      <td>2021</td>\n",
       "      <td>5510.0</td>\n",
       "      <td>4854.0</td>\n",
       "      <td>656.0</td>\n",
       "      <td>NaN</td>\n",
       "      <td>2727.0</td>\n",
       "      <td>2250.0</td>\n",
       "      <td>477.0</td>\n",
       "    </tr>\n",
       "    <tr>\n",
       "      <th>25</th>\n",
       "      <td>2020</td>\n",
       "      <td>5401.0</td>\n",
       "      <td>4851.0</td>\n",
       "      <td>550.0</td>\n",
       "      <td>NaN</td>\n",
       "      <td>2673.0</td>\n",
       "      <td>2234.0</td>\n",
       "      <td>440.0</td>\n",
       "    </tr>\n",
       "    <tr>\n",
       "      <th>26</th>\n",
       "      <td>2019</td>\n",
       "      <td>5510.0</td>\n",
       "      <td>4938.0</td>\n",
       "      <td>572.0</td>\n",
       "      <td>NaN</td>\n",
       "      <td>2770.0</td>\n",
       "      <td>2312.0</td>\n",
       "      <td>458.0</td>\n",
       "    </tr>\n",
       "  </tbody>\n",
       "</table>\n",
       "</div>"
      ],
      "text/plain": [
       "               Year  Total Two parent families  Married  Unmarried  \\\n",
       "0               NaN                        NaN      NaN        NaN   \n",
       "1         All races                        NaN      NaN        NaN   \n",
       "2              2022                    26105.0  24040.0     2065.0   \n",
       "3              2021                    25953.0  23992.0     1961.0   \n",
       "4              2020                    26161.0  24477.0     1684.0   \n",
       "5              2019                    26373.0  24509.0     1864.0   \n",
       "6               NaN                        NaN      NaN        NaN   \n",
       "7               NaN                        NaN      NaN        NaN   \n",
       "8             White                        NaN      NaN        NaN   \n",
       "9              2022                    20645.0  19075.0     1569.0   \n",
       "10             2021                    20503.0  19060.0     1443.0   \n",
       "11             2020                    20712.0  19425.0     1287.0   \n",
       "12             2019                    21004.0  19589.0     1415.0   \n",
       "13              NaN                        NaN      NaN        NaN   \n",
       "14              NaN                        NaN      NaN        NaN   \n",
       "15            Black                        NaN      NaN        NaN   \n",
       "16             2022                     2289.0   1952.0      337.0   \n",
       "17             2021                     2269.0   1963.0      305.0   \n",
       "18             2020                     2263.0   2023.0      239.0   \n",
       "19             2019                     2211.0   1934.0      277.0   \n",
       "20              NaN                        NaN      NaN        NaN   \n",
       "21              NaN                        NaN      NaN        NaN   \n",
       "22  Hispanic origin                        NaN      NaN        NaN   \n",
       "23             2022                     5544.0   4837.0      707.0   \n",
       "24             2021                     5510.0   4854.0      656.0   \n",
       "25             2020                     5401.0   4851.0      550.0   \n",
       "26             2019                     5510.0   4938.0      572.0   \n",
       "\n",
       "    Unnamed: 4  Total One parent families  Mother only  Father only  \n",
       "0          NaN                        NaN          NaN          NaN  \n",
       "1          NaN                        NaN          NaN          NaN  \n",
       "2          NaN                    10889.0       8657.0       2232.0  \n",
       "3          NaN                    11091.0       8797.0       2294.0  \n",
       "4          NaN                    10720.0       8625.0       2094.0  \n",
       "5          NaN                    11008.0       8880.0       2128.0  \n",
       "6          NaN                        NaN          NaN          NaN  \n",
       "7          NaN                        NaN          NaN          NaN  \n",
       "8          NaN                        NaN          NaN          NaN  \n",
       "9          NaN                     6855.0       5260.0       1596.0  \n",
       "10         NaN                     7051.0       5381.0       1670.0  \n",
       "11         NaN                     6901.0       5341.0       1560.0  \n",
       "12         NaN                     7116.0       5544.0       1572.0  \n",
       "13         NaN                        NaN          NaN          NaN  \n",
       "14         NaN                        NaN          NaN          NaN  \n",
       "15         NaN                        NaN          NaN          NaN  \n",
       "16         NaN                     3083.0       2661.0        422.0  \n",
       "17         NaN                     3115.0       2693.0        422.0  \n",
       "18         NaN                     2976.0       2622.0        354.0  \n",
       "19         NaN                     2960.0       2581.0        379.0  \n",
       "20         NaN                        NaN          NaN          NaN  \n",
       "21         NaN                        NaN          NaN          NaN  \n",
       "22         NaN                        NaN          NaN          NaN  \n",
       "23         NaN                     2672.0       2204.0        468.0  \n",
       "24         NaN                     2727.0       2250.0        477.0  \n",
       "25         NaN                     2673.0       2234.0        440.0  \n",
       "26         NaN                     2770.0       2312.0        458.0  "
      ]
     },
     "execution_count": 40,
     "metadata": {},
     "output_type": "execute_result"
    }
   ],
   "source": [
    "households_by_race.head(34)"
   ]
  },
  {
   "cell_type": "code",
   "execution_count": null,
   "id": "326dc1ec",
   "metadata": {},
   "outputs": [],
   "source": [
    "# r = Revised based on population from the most recent decennial census\n",
    "# y = Estimates produced using PEPAR1 and PEPAR2, the new gender neutral parent pointer variables introduced in 2019. \n",
    "# Also, starting in 2019, two parent married and unmarried families include same sex parents.\n",
    "# a = Householder whose race was reported as only one race."
   ]
  },
  {
   "cell_type": "code",
   "execution_count": 41,
   "id": "fabf3b98",
   "metadata": {},
   "outputs": [
    {
     "data": {
      "text/plain": [
       "Index(['Year', 'Total Two parent families', 'Married', 'Unmarried',\n",
       "       'Unnamed: 4', 'Total One parent families', 'Mother only',\n",
       "       'Father only'],\n",
       "      dtype='object')"
      ]
     },
     "execution_count": 41,
     "metadata": {},
     "output_type": "execute_result"
    }
   ],
   "source": [
    "households_by_race.columns"
   ]
  },
  {
   "cell_type": "code",
   "execution_count": 42,
   "id": "7aa6a60b",
   "metadata": {},
   "outputs": [
    {
     "data": {
      "text/plain": [
       "array([nan, 'All races', 2022, 2021, 2020, 2019, 'White', 'Black',\n",
       "       'Hispanic origin'], dtype=object)"
      ]
     },
     "execution_count": 42,
     "metadata": {},
     "output_type": "execute_result"
    }
   ],
   "source": [
    "households_by_race[\"Year\"].unique()"
   ]
  },
  {
   "cell_type": "code",
   "execution_count": 43,
   "id": "418ba8a4",
   "metadata": {},
   "outputs": [
    {
     "data": {
      "text/plain": [
       "array([   nan, 26105., 25953., 26161., 26373., 20645., 20503., 20712.,\n",
       "       21004.,  2289.,  2269.,  2263.,  2211.,  5544.,  5510.,  5401.])"
      ]
     },
     "execution_count": 43,
     "metadata": {},
     "output_type": "execute_result"
    }
   ],
   "source": [
    "households_by_race[\"Total Two parent families\"].unique()"
   ]
  },
  {
   "cell_type": "code",
   "execution_count": 44,
   "id": "5425b48e",
   "metadata": {},
   "outputs": [
    {
     "data": {
      "text/plain": [
       "array([   nan, 10889., 11091., 10720., 11008.,  6855.,  7051.,  6901.,\n",
       "        7116.,  3083.,  3115.,  2976.,  2960.,  2672.,  2727.,  2673.,\n",
       "        2770.])"
      ]
     },
     "execution_count": 44,
     "metadata": {},
     "output_type": "execute_result"
    }
   ],
   "source": [
    "households_by_race[\"Total One parent families\"].unique()"
   ]
  },
  {
   "cell_type": "code",
   "execution_count": 45,
   "id": "0ee79320",
   "metadata": {},
   "outputs": [],
   "source": [
    "allraces = households_by_race[1:7]"
   ]
  },
  {
   "cell_type": "code",
   "execution_count": 46,
   "id": "724239bd",
   "metadata": {},
   "outputs": [
    {
     "data": {
      "text/html": [
       "<div>\n",
       "<style scoped>\n",
       "    .dataframe tbody tr th:only-of-type {\n",
       "        vertical-align: middle;\n",
       "    }\n",
       "\n",
       "    .dataframe tbody tr th {\n",
       "        vertical-align: top;\n",
       "    }\n",
       "\n",
       "    .dataframe thead th {\n",
       "        text-align: right;\n",
       "    }\n",
       "</style>\n",
       "<table border=\"1\" class=\"dataframe\">\n",
       "  <thead>\n",
       "    <tr style=\"text-align: right;\">\n",
       "      <th></th>\n",
       "      <th>Year</th>\n",
       "      <th>Total Two parent families</th>\n",
       "      <th>Married</th>\n",
       "      <th>Unmarried</th>\n",
       "      <th>Unnamed: 4</th>\n",
       "      <th>Total One parent families</th>\n",
       "      <th>Mother only</th>\n",
       "      <th>Father only</th>\n",
       "    </tr>\n",
       "  </thead>\n",
       "  <tbody>\n",
       "    <tr>\n",
       "      <th>1</th>\n",
       "      <td>All races</td>\n",
       "      <td>NaN</td>\n",
       "      <td>NaN</td>\n",
       "      <td>NaN</td>\n",
       "      <td>NaN</td>\n",
       "      <td>NaN</td>\n",
       "      <td>NaN</td>\n",
       "      <td>NaN</td>\n",
       "    </tr>\n",
       "    <tr>\n",
       "      <th>2</th>\n",
       "      <td>2022</td>\n",
       "      <td>26105.0</td>\n",
       "      <td>24040.0</td>\n",
       "      <td>2065.0</td>\n",
       "      <td>NaN</td>\n",
       "      <td>10889.0</td>\n",
       "      <td>8657.0</td>\n",
       "      <td>2232.0</td>\n",
       "    </tr>\n",
       "    <tr>\n",
       "      <th>3</th>\n",
       "      <td>2021</td>\n",
       "      <td>25953.0</td>\n",
       "      <td>23992.0</td>\n",
       "      <td>1961.0</td>\n",
       "      <td>NaN</td>\n",
       "      <td>11091.0</td>\n",
       "      <td>8797.0</td>\n",
       "      <td>2294.0</td>\n",
       "    </tr>\n",
       "    <tr>\n",
       "      <th>4</th>\n",
       "      <td>2020</td>\n",
       "      <td>26161.0</td>\n",
       "      <td>24477.0</td>\n",
       "      <td>1684.0</td>\n",
       "      <td>NaN</td>\n",
       "      <td>10720.0</td>\n",
       "      <td>8625.0</td>\n",
       "      <td>2094.0</td>\n",
       "    </tr>\n",
       "    <tr>\n",
       "      <th>5</th>\n",
       "      <td>2019</td>\n",
       "      <td>26373.0</td>\n",
       "      <td>24509.0</td>\n",
       "      <td>1864.0</td>\n",
       "      <td>NaN</td>\n",
       "      <td>11008.0</td>\n",
       "      <td>8880.0</td>\n",
       "      <td>2128.0</td>\n",
       "    </tr>\n",
       "    <tr>\n",
       "      <th>6</th>\n",
       "      <td>NaN</td>\n",
       "      <td>NaN</td>\n",
       "      <td>NaN</td>\n",
       "      <td>NaN</td>\n",
       "      <td>NaN</td>\n",
       "      <td>NaN</td>\n",
       "      <td>NaN</td>\n",
       "      <td>NaN</td>\n",
       "    </tr>\n",
       "  </tbody>\n",
       "</table>\n",
       "</div>"
      ],
      "text/plain": [
       "        Year  Total Two parent families  Married  Unmarried  Unnamed: 4  \\\n",
       "1  All races                        NaN      NaN        NaN         NaN   \n",
       "2       2022                    26105.0  24040.0     2065.0         NaN   \n",
       "3       2021                    25953.0  23992.0     1961.0         NaN   \n",
       "4       2020                    26161.0  24477.0     1684.0         NaN   \n",
       "5       2019                    26373.0  24509.0     1864.0         NaN   \n",
       "6        NaN                        NaN      NaN        NaN         NaN   \n",
       "\n",
       "   Total One parent families  Mother only  Father only  \n",
       "1                        NaN          NaN          NaN  \n",
       "2                    10889.0       8657.0       2232.0  \n",
       "3                    11091.0       8797.0       2294.0  \n",
       "4                    10720.0       8625.0       2094.0  \n",
       "5                    11008.0       8880.0       2128.0  \n",
       "6                        NaN          NaN          NaN  "
      ]
     },
     "execution_count": 46,
     "metadata": {},
     "output_type": "execute_result"
    }
   ],
   "source": [
    "allraces"
   ]
  },
  {
   "cell_type": "code",
   "execution_count": 124,
   "id": "d1f1b811",
   "metadata": {},
   "outputs": [],
   "source": [
    "whiteDf = households_by_race[7:14]"
   ]
  },
  {
   "cell_type": "code",
   "execution_count": 125,
   "id": "1b1ec31f",
   "metadata": {},
   "outputs": [
    {
     "data": {
      "text/html": [
       "<div>\n",
       "<style scoped>\n",
       "    .dataframe tbody tr th:only-of-type {\n",
       "        vertical-align: middle;\n",
       "    }\n",
       "\n",
       "    .dataframe tbody tr th {\n",
       "        vertical-align: top;\n",
       "    }\n",
       "\n",
       "    .dataframe thead th {\n",
       "        text-align: right;\n",
       "    }\n",
       "</style>\n",
       "<table border=\"1\" class=\"dataframe\">\n",
       "  <thead>\n",
       "    <tr style=\"text-align: right;\">\n",
       "      <th></th>\n",
       "      <th>Year</th>\n",
       "      <th>Total Two parent families</th>\n",
       "      <th>Married</th>\n",
       "      <th>Unmarried</th>\n",
       "      <th>Unnamed: 4</th>\n",
       "      <th>Total One parent families</th>\n",
       "      <th>Mother only</th>\n",
       "      <th>Father only</th>\n",
       "    </tr>\n",
       "  </thead>\n",
       "  <tbody>\n",
       "    <tr>\n",
       "      <th>7</th>\n",
       "      <td>NaN</td>\n",
       "      <td>NaN</td>\n",
       "      <td>NaN</td>\n",
       "      <td>NaN</td>\n",
       "      <td>NaN</td>\n",
       "      <td>NaN</td>\n",
       "      <td>NaN</td>\n",
       "      <td>NaN</td>\n",
       "    </tr>\n",
       "    <tr>\n",
       "      <th>8</th>\n",
       "      <td>White</td>\n",
       "      <td>NaN</td>\n",
       "      <td>NaN</td>\n",
       "      <td>NaN</td>\n",
       "      <td>NaN</td>\n",
       "      <td>NaN</td>\n",
       "      <td>NaN</td>\n",
       "      <td>NaN</td>\n",
       "    </tr>\n",
       "    <tr>\n",
       "      <th>9</th>\n",
       "      <td>2022</td>\n",
       "      <td>20645.0</td>\n",
       "      <td>19075.0</td>\n",
       "      <td>1569.0</td>\n",
       "      <td>NaN</td>\n",
       "      <td>6855.0</td>\n",
       "      <td>5260.0</td>\n",
       "      <td>1596.0</td>\n",
       "    </tr>\n",
       "    <tr>\n",
       "      <th>10</th>\n",
       "      <td>2021</td>\n",
       "      <td>20503.0</td>\n",
       "      <td>19060.0</td>\n",
       "      <td>1443.0</td>\n",
       "      <td>NaN</td>\n",
       "      <td>7051.0</td>\n",
       "      <td>5381.0</td>\n",
       "      <td>1670.0</td>\n",
       "    </tr>\n",
       "    <tr>\n",
       "      <th>11</th>\n",
       "      <td>2020</td>\n",
       "      <td>20712.0</td>\n",
       "      <td>19425.0</td>\n",
       "      <td>1287.0</td>\n",
       "      <td>NaN</td>\n",
       "      <td>6901.0</td>\n",
       "      <td>5341.0</td>\n",
       "      <td>1560.0</td>\n",
       "    </tr>\n",
       "    <tr>\n",
       "      <th>12</th>\n",
       "      <td>2019</td>\n",
       "      <td>21004.0</td>\n",
       "      <td>19589.0</td>\n",
       "      <td>1415.0</td>\n",
       "      <td>NaN</td>\n",
       "      <td>7116.0</td>\n",
       "      <td>5544.0</td>\n",
       "      <td>1572.0</td>\n",
       "    </tr>\n",
       "    <tr>\n",
       "      <th>13</th>\n",
       "      <td>NaN</td>\n",
       "      <td>NaN</td>\n",
       "      <td>NaN</td>\n",
       "      <td>NaN</td>\n",
       "      <td>NaN</td>\n",
       "      <td>NaN</td>\n",
       "      <td>NaN</td>\n",
       "      <td>NaN</td>\n",
       "    </tr>\n",
       "  </tbody>\n",
       "</table>\n",
       "</div>"
      ],
      "text/plain": [
       "     Year  Total Two parent families  Married  Unmarried  Unnamed: 4  \\\n",
       "7     NaN                        NaN      NaN        NaN         NaN   \n",
       "8   White                        NaN      NaN        NaN         NaN   \n",
       "9    2022                    20645.0  19075.0     1569.0         NaN   \n",
       "10   2021                    20503.0  19060.0     1443.0         NaN   \n",
       "11   2020                    20712.0  19425.0     1287.0         NaN   \n",
       "12   2019                    21004.0  19589.0     1415.0         NaN   \n",
       "13    NaN                        NaN      NaN        NaN         NaN   \n",
       "\n",
       "    Total One parent families  Mother only  Father only  \n",
       "7                         NaN          NaN          NaN  \n",
       "8                         NaN          NaN          NaN  \n",
       "9                      6855.0       5260.0       1596.0  \n",
       "10                     7051.0       5381.0       1670.0  \n",
       "11                     6901.0       5341.0       1560.0  \n",
       "12                     7116.0       5544.0       1572.0  \n",
       "13                        NaN          NaN          NaN  "
      ]
     },
     "execution_count": 125,
     "metadata": {},
     "output_type": "execute_result"
    }
   ],
   "source": [
    "whiteDf"
   ]
  },
  {
   "cell_type": "code",
   "execution_count": 155,
   "id": "25f97a45",
   "metadata": {},
   "outputs": [],
   "source": [
    "blackDf = households_by_race[13:20]"
   ]
  },
  {
   "cell_type": "code",
   "execution_count": 156,
   "id": "3bc7fc7d",
   "metadata": {},
   "outputs": [
    {
     "data": {
      "text/html": [
       "<div>\n",
       "<style scoped>\n",
       "    .dataframe tbody tr th:only-of-type {\n",
       "        vertical-align: middle;\n",
       "    }\n",
       "\n",
       "    .dataframe tbody tr th {\n",
       "        vertical-align: top;\n",
       "    }\n",
       "\n",
       "    .dataframe thead th {\n",
       "        text-align: right;\n",
       "    }\n",
       "</style>\n",
       "<table border=\"1\" class=\"dataframe\">\n",
       "  <thead>\n",
       "    <tr style=\"text-align: right;\">\n",
       "      <th></th>\n",
       "      <th>Year</th>\n",
       "      <th>Total Two parent families</th>\n",
       "      <th>Married</th>\n",
       "      <th>Unmarried</th>\n",
       "      <th>Unnamed: 4</th>\n",
       "      <th>Total One parent families</th>\n",
       "      <th>Mother only</th>\n",
       "      <th>Father only</th>\n",
       "    </tr>\n",
       "  </thead>\n",
       "  <tbody>\n",
       "    <tr>\n",
       "      <th>13</th>\n",
       "      <td>NaN</td>\n",
       "      <td>NaN</td>\n",
       "      <td>NaN</td>\n",
       "      <td>NaN</td>\n",
       "      <td>NaN</td>\n",
       "      <td>NaN</td>\n",
       "      <td>NaN</td>\n",
       "      <td>NaN</td>\n",
       "    </tr>\n",
       "    <tr>\n",
       "      <th>14</th>\n",
       "      <td>NaN</td>\n",
       "      <td>NaN</td>\n",
       "      <td>NaN</td>\n",
       "      <td>NaN</td>\n",
       "      <td>NaN</td>\n",
       "      <td>NaN</td>\n",
       "      <td>NaN</td>\n",
       "      <td>NaN</td>\n",
       "    </tr>\n",
       "    <tr>\n",
       "      <th>15</th>\n",
       "      <td>Black</td>\n",
       "      <td>NaN</td>\n",
       "      <td>NaN</td>\n",
       "      <td>NaN</td>\n",
       "      <td>NaN</td>\n",
       "      <td>NaN</td>\n",
       "      <td>NaN</td>\n",
       "      <td>NaN</td>\n",
       "    </tr>\n",
       "    <tr>\n",
       "      <th>16</th>\n",
       "      <td>2022</td>\n",
       "      <td>2289.0</td>\n",
       "      <td>1952.0</td>\n",
       "      <td>337.0</td>\n",
       "      <td>NaN</td>\n",
       "      <td>3083.0</td>\n",
       "      <td>2661.0</td>\n",
       "      <td>422.0</td>\n",
       "    </tr>\n",
       "    <tr>\n",
       "      <th>17</th>\n",
       "      <td>2021</td>\n",
       "      <td>2269.0</td>\n",
       "      <td>1963.0</td>\n",
       "      <td>305.0</td>\n",
       "      <td>NaN</td>\n",
       "      <td>3115.0</td>\n",
       "      <td>2693.0</td>\n",
       "      <td>422.0</td>\n",
       "    </tr>\n",
       "    <tr>\n",
       "      <th>18</th>\n",
       "      <td>2020</td>\n",
       "      <td>2263.0</td>\n",
       "      <td>2023.0</td>\n",
       "      <td>239.0</td>\n",
       "      <td>NaN</td>\n",
       "      <td>2976.0</td>\n",
       "      <td>2622.0</td>\n",
       "      <td>354.0</td>\n",
       "    </tr>\n",
       "    <tr>\n",
       "      <th>19</th>\n",
       "      <td>2019</td>\n",
       "      <td>2211.0</td>\n",
       "      <td>1934.0</td>\n",
       "      <td>277.0</td>\n",
       "      <td>NaN</td>\n",
       "      <td>2960.0</td>\n",
       "      <td>2581.0</td>\n",
       "      <td>379.0</td>\n",
       "    </tr>\n",
       "    <tr>\n",
       "      <th>20</th>\n",
       "      <td>NaN</td>\n",
       "      <td>NaN</td>\n",
       "      <td>NaN</td>\n",
       "      <td>NaN</td>\n",
       "      <td>NaN</td>\n",
       "      <td>NaN</td>\n",
       "      <td>NaN</td>\n",
       "      <td>NaN</td>\n",
       "    </tr>\n",
       "  </tbody>\n",
       "</table>\n",
       "</div>"
      ],
      "text/plain": [
       "     Year  Total Two parent families  Married  Unmarried  Unnamed: 4  \\\n",
       "13    NaN                        NaN      NaN        NaN         NaN   \n",
       "14    NaN                        NaN      NaN        NaN         NaN   \n",
       "15  Black                        NaN      NaN        NaN         NaN   \n",
       "16   2022                     2289.0   1952.0      337.0         NaN   \n",
       "17   2021                     2269.0   1963.0      305.0         NaN   \n",
       "18   2020                     2263.0   2023.0      239.0         NaN   \n",
       "19   2019                     2211.0   1934.0      277.0         NaN   \n",
       "20    NaN                        NaN      NaN        NaN         NaN   \n",
       "\n",
       "    Total One parent families  Mother only  Father only  \n",
       "13                        NaN          NaN          NaN  \n",
       "14                        NaN          NaN          NaN  \n",
       "15                        NaN          NaN          NaN  \n",
       "16                     3083.0       2661.0        422.0  \n",
       "17                     3115.0       2693.0        422.0  \n",
       "18                     2976.0       2622.0        354.0  \n",
       "19                     2960.0       2581.0        379.0  \n",
       "20                        NaN          NaN          NaN  "
      ]
     },
     "execution_count": 156,
     "metadata": {},
     "output_type": "execute_result"
    }
   ],
   "source": [
    "blackDf"
   ]
  },
  {
   "cell_type": "code",
   "execution_count": 194,
   "id": "fc9929fb",
   "metadata": {},
   "outputs": [],
   "source": [
    "hispanicDf = households_by_race[22:27]"
   ]
  },
  {
   "cell_type": "code",
   "execution_count": 195,
   "id": "5003ca4c",
   "metadata": {},
   "outputs": [
    {
     "data": {
      "text/html": [
       "<div>\n",
       "<style scoped>\n",
       "    .dataframe tbody tr th:only-of-type {\n",
       "        vertical-align: middle;\n",
       "    }\n",
       "\n",
       "    .dataframe tbody tr th {\n",
       "        vertical-align: top;\n",
       "    }\n",
       "\n",
       "    .dataframe thead th {\n",
       "        text-align: right;\n",
       "    }\n",
       "</style>\n",
       "<table border=\"1\" class=\"dataframe\">\n",
       "  <thead>\n",
       "    <tr style=\"text-align: right;\">\n",
       "      <th></th>\n",
       "      <th>Year</th>\n",
       "      <th>Total Two parent families</th>\n",
       "      <th>Married</th>\n",
       "      <th>Unmarried</th>\n",
       "      <th>Unnamed: 4</th>\n",
       "      <th>Total One parent families</th>\n",
       "      <th>Mother only</th>\n",
       "      <th>Father only</th>\n",
       "    </tr>\n",
       "  </thead>\n",
       "  <tbody>\n",
       "    <tr>\n",
       "      <th>22</th>\n",
       "      <td>Hispanic origin</td>\n",
       "      <td>NaN</td>\n",
       "      <td>NaN</td>\n",
       "      <td>NaN</td>\n",
       "      <td>NaN</td>\n",
       "      <td>NaN</td>\n",
       "      <td>NaN</td>\n",
       "      <td>NaN</td>\n",
       "    </tr>\n",
       "    <tr>\n",
       "      <th>23</th>\n",
       "      <td>2022</td>\n",
       "      <td>5544.0</td>\n",
       "      <td>4837.0</td>\n",
       "      <td>707.0</td>\n",
       "      <td>NaN</td>\n",
       "      <td>2672.0</td>\n",
       "      <td>2204.0</td>\n",
       "      <td>468.0</td>\n",
       "    </tr>\n",
       "    <tr>\n",
       "      <th>24</th>\n",
       "      <td>2021</td>\n",
       "      <td>5510.0</td>\n",
       "      <td>4854.0</td>\n",
       "      <td>656.0</td>\n",
       "      <td>NaN</td>\n",
       "      <td>2727.0</td>\n",
       "      <td>2250.0</td>\n",
       "      <td>477.0</td>\n",
       "    </tr>\n",
       "    <tr>\n",
       "      <th>25</th>\n",
       "      <td>2020</td>\n",
       "      <td>5401.0</td>\n",
       "      <td>4851.0</td>\n",
       "      <td>550.0</td>\n",
       "      <td>NaN</td>\n",
       "      <td>2673.0</td>\n",
       "      <td>2234.0</td>\n",
       "      <td>440.0</td>\n",
       "    </tr>\n",
       "    <tr>\n",
       "      <th>26</th>\n",
       "      <td>2019</td>\n",
       "      <td>5510.0</td>\n",
       "      <td>4938.0</td>\n",
       "      <td>572.0</td>\n",
       "      <td>NaN</td>\n",
       "      <td>2770.0</td>\n",
       "      <td>2312.0</td>\n",
       "      <td>458.0</td>\n",
       "    </tr>\n",
       "  </tbody>\n",
       "</table>\n",
       "</div>"
      ],
      "text/plain": [
       "               Year  Total Two parent families  Married  Unmarried  \\\n",
       "22  Hispanic origin                        NaN      NaN        NaN   \n",
       "23             2022                     5544.0   4837.0      707.0   \n",
       "24             2021                     5510.0   4854.0      656.0   \n",
       "25             2020                     5401.0   4851.0      550.0   \n",
       "26             2019                     5510.0   4938.0      572.0   \n",
       "\n",
       "    Unnamed: 4  Total One parent families  Mother only  Father only  \n",
       "22         NaN                        NaN          NaN          NaN  \n",
       "23         NaN                     2672.0       2204.0        468.0  \n",
       "24         NaN                     2727.0       2250.0        477.0  \n",
       "25         NaN                     2673.0       2234.0        440.0  \n",
       "26         NaN                     2770.0       2312.0        458.0  "
      ]
     },
     "execution_count": 195,
     "metadata": {},
     "output_type": "execute_result"
    }
   ],
   "source": [
    "hispanicDf"
   ]
  },
  {
   "cell_type": "markdown",
   "id": "425ea0d2",
   "metadata": {},
   "source": [
    "# Two parent familes - graphs showing married vs unmarried rates"
   ]
  },
  {
   "cell_type": "code",
   "execution_count": 88,
   "id": "59d1b390",
   "metadata": {},
   "outputs": [],
   "source": [
    "allracesFix = allraces.drop('Unnamed: 4', axis=1)\n",
    "allracesFix.drop(1, inplace=True)\n",
    "allracesFix.drop(6, inplace=True)"
   ]
  },
  {
   "cell_type": "code",
   "execution_count": 89,
   "id": "424a7183",
   "metadata": {},
   "outputs": [
    {
     "data": {
      "text/html": [
       "<div>\n",
       "<style scoped>\n",
       "    .dataframe tbody tr th:only-of-type {\n",
       "        vertical-align: middle;\n",
       "    }\n",
       "\n",
       "    .dataframe tbody tr th {\n",
       "        vertical-align: top;\n",
       "    }\n",
       "\n",
       "    .dataframe thead th {\n",
       "        text-align: right;\n",
       "    }\n",
       "</style>\n",
       "<table border=\"1\" class=\"dataframe\">\n",
       "  <thead>\n",
       "    <tr style=\"text-align: right;\">\n",
       "      <th></th>\n",
       "      <th>Year</th>\n",
       "      <th>Total Two parent families</th>\n",
       "      <th>Married</th>\n",
       "      <th>Unmarried</th>\n",
       "      <th>Total One parent families</th>\n",
       "      <th>Mother only</th>\n",
       "      <th>Father only</th>\n",
       "    </tr>\n",
       "  </thead>\n",
       "  <tbody>\n",
       "    <tr>\n",
       "      <th>2</th>\n",
       "      <td>2022</td>\n",
       "      <td>26105.0</td>\n",
       "      <td>24040.0</td>\n",
       "      <td>2065.0</td>\n",
       "      <td>10889.0</td>\n",
       "      <td>8657.0</td>\n",
       "      <td>2232.0</td>\n",
       "    </tr>\n",
       "    <tr>\n",
       "      <th>3</th>\n",
       "      <td>2021</td>\n",
       "      <td>25953.0</td>\n",
       "      <td>23992.0</td>\n",
       "      <td>1961.0</td>\n",
       "      <td>11091.0</td>\n",
       "      <td>8797.0</td>\n",
       "      <td>2294.0</td>\n",
       "    </tr>\n",
       "    <tr>\n",
       "      <th>4</th>\n",
       "      <td>2020</td>\n",
       "      <td>26161.0</td>\n",
       "      <td>24477.0</td>\n",
       "      <td>1684.0</td>\n",
       "      <td>10720.0</td>\n",
       "      <td>8625.0</td>\n",
       "      <td>2094.0</td>\n",
       "    </tr>\n",
       "    <tr>\n",
       "      <th>5</th>\n",
       "      <td>2019</td>\n",
       "      <td>26373.0</td>\n",
       "      <td>24509.0</td>\n",
       "      <td>1864.0</td>\n",
       "      <td>11008.0</td>\n",
       "      <td>8880.0</td>\n",
       "      <td>2128.0</td>\n",
       "    </tr>\n",
       "  </tbody>\n",
       "</table>\n",
       "</div>"
      ],
      "text/plain": [
       "   Year  Total Two parent families  Married  Unmarried  \\\n",
       "2  2022                    26105.0  24040.0     2065.0   \n",
       "3  2021                    25953.0  23992.0     1961.0   \n",
       "4  2020                    26161.0  24477.0     1684.0   \n",
       "5  2019                    26373.0  24509.0     1864.0   \n",
       "\n",
       "   Total One parent families  Mother only  Father only  \n",
       "2                    10889.0       8657.0       2232.0  \n",
       "3                    11091.0       8797.0       2294.0  \n",
       "4                    10720.0       8625.0       2094.0  \n",
       "5                    11008.0       8880.0       2128.0  "
      ]
     },
     "execution_count": 89,
     "metadata": {},
     "output_type": "execute_result"
    }
   ],
   "source": [
    "allracesFix"
   ]
  },
  {
   "cell_type": "code",
   "execution_count": 90,
   "id": "13e89572",
   "metadata": {},
   "outputs": [
    {
     "name": "stderr",
     "output_type": "stream",
     "text": [
      "C:\\Users\\s3dja\\anaconda3\\lib\\site-packages\\pandas\\core\\indexes\\base.py:6999: FutureWarning: In a future version, the Index constructor will not infer numeric dtypes when passed object-dtype sequences (matching Series behavior)\n",
      "  return Index(sequences[0], name=names)\n"
     ]
    }
   ],
   "source": [
    "allracesFix.set_index('Year')\n",
    "allracesFix[\"Year\"] = allracesFix[\"Year\"].astype(int)\n",
    "allracesFix[\"Married\"] = allracesFix[\"Married\"].astype(int)"
   ]
  },
  {
   "cell_type": "code",
   "execution_count": 91,
   "id": "de7dd9b7",
   "metadata": {},
   "outputs": [
    {
     "data": {
      "image/png": "[encoded data removed]",
      "text/plain": [
       "<Figure size 640x480 with 1 Axes>"
      ]
     },
     "metadata": {},
     "output_type": "display_data"
    }
   ],
   "source": [
    "plt.bar(allracesFix[\"Year\"], allracesFix[\"Married\"])\n",
    "plt.xlabel(\"Year\")\n",
    "plt.ylabel(\"Married\")\n",
    "plt.xticks(allracesFix[\"Year\"])\n",
    "plt.xticks(rotation=45)\n",
    "plt.show()"
   ]
  },
  {
   "cell_type": "code",
   "execution_count": 92,
   "id": "8516cb90",
   "metadata": {},
   "outputs": [],
   "source": [
    "allracesFix = allraces.drop('Unnamed: 4', axis=1)\n",
    "allracesFix.drop(1, inplace=True)\n",
    "allracesFix.drop(6, inplace=True)"
   ]
  },
  {
   "cell_type": "code",
   "execution_count": 93,
   "id": "abf10d9d",
   "metadata": {},
   "outputs": [
    {
     "data": {
      "text/html": [
       "<div>\n",
       "<style scoped>\n",
       "    .dataframe tbody tr th:only-of-type {\n",
       "        vertical-align: middle;\n",
       "    }\n",
       "\n",
       "    .dataframe tbody tr th {\n",
       "        vertical-align: top;\n",
       "    }\n",
       "\n",
       "    .dataframe thead th {\n",
       "        text-align: right;\n",
       "    }\n",
       "</style>\n",
       "<table border=\"1\" class=\"dataframe\">\n",
       "  <thead>\n",
       "    <tr style=\"text-align: right;\">\n",
       "      <th></th>\n",
       "      <th>Year</th>\n",
       "      <th>Total Two parent families</th>\n",
       "      <th>Married</th>\n",
       "      <th>Unmarried</th>\n",
       "      <th>Total One parent families</th>\n",
       "      <th>Mother only</th>\n",
       "      <th>Father only</th>\n",
       "    </tr>\n",
       "  </thead>\n",
       "  <tbody>\n",
       "    <tr>\n",
       "      <th>2</th>\n",
       "      <td>2022</td>\n",
       "      <td>26105.0</td>\n",
       "      <td>24040.0</td>\n",
       "      <td>2065.0</td>\n",
       "      <td>10889.0</td>\n",
       "      <td>8657.0</td>\n",
       "      <td>2232.0</td>\n",
       "    </tr>\n",
       "    <tr>\n",
       "      <th>3</th>\n",
       "      <td>2021</td>\n",
       "      <td>25953.0</td>\n",
       "      <td>23992.0</td>\n",
       "      <td>1961.0</td>\n",
       "      <td>11091.0</td>\n",
       "      <td>8797.0</td>\n",
       "      <td>2294.0</td>\n",
       "    </tr>\n",
       "    <tr>\n",
       "      <th>4</th>\n",
       "      <td>2020</td>\n",
       "      <td>26161.0</td>\n",
       "      <td>24477.0</td>\n",
       "      <td>1684.0</td>\n",
       "      <td>10720.0</td>\n",
       "      <td>8625.0</td>\n",
       "      <td>2094.0</td>\n",
       "    </tr>\n",
       "    <tr>\n",
       "      <th>5</th>\n",
       "      <td>2019</td>\n",
       "      <td>26373.0</td>\n",
       "      <td>24509.0</td>\n",
       "      <td>1864.0</td>\n",
       "      <td>11008.0</td>\n",
       "      <td>8880.0</td>\n",
       "      <td>2128.0</td>\n",
       "    </tr>\n",
       "  </tbody>\n",
       "</table>\n",
       "</div>"
      ],
      "text/plain": [
       "   Year  Total Two parent families  Married  Unmarried  \\\n",
       "2  2022                    26105.0  24040.0     2065.0   \n",
       "3  2021                    25953.0  23992.0     1961.0   \n",
       "4  2020                    26161.0  24477.0     1684.0   \n",
       "5  2019                    26373.0  24509.0     1864.0   \n",
       "\n",
       "   Total One parent families  Mother only  Father only  \n",
       "2                    10889.0       8657.0       2232.0  \n",
       "3                    11091.0       8797.0       2294.0  \n",
       "4                    10720.0       8625.0       2094.0  \n",
       "5                    11008.0       8880.0       2128.0  "
      ]
     },
     "execution_count": 93,
     "metadata": {},
     "output_type": "execute_result"
    }
   ],
   "source": [
    "allracesFix"
   ]
  },
  {
   "cell_type": "code",
   "execution_count": 94,
   "id": "ae3fa157",
   "metadata": {},
   "outputs": [
    {
     "name": "stderr",
     "output_type": "stream",
     "text": [
      "C:\\Users\\s3dja\\anaconda3\\lib\\site-packages\\pandas\\core\\indexes\\base.py:6999: FutureWarning: In a future version, the Index constructor will not infer numeric dtypes when passed object-dtype sequences (matching Series behavior)\n",
      "  return Index(sequences[0], name=names)\n"
     ]
    }
   ],
   "source": [
    "allracesFix.set_index('Year')\n",
    "allracesFix[\"Year\"] = allracesFix[\"Year\"].astype(int)\n",
    "allracesFix[\"Unmarried\"] = allracesFix[\"Unmarried\"].astype(int)"
   ]
  },
  {
   "cell_type": "code",
   "execution_count": 95,
   "id": "0e7bab68",
   "metadata": {},
   "outputs": [
    {
     "data": {
      "image/png": "[encoded data removed]",
      "text/plain": [
       "<Figure size 640x480 with 1 Axes>"
      ]
     },
     "metadata": {},
     "output_type": "display_data"
    }
   ],
   "source": [
    "plt.bar(allracesFix[\"Year\"], allracesFix[\"Unmarried\"])\n",
    "plt.xlabel(\"Year\")\n",
    "plt.ylabel(\"Unmarried\")\n",
    "plt.xticks(allracesFix[\"Year\"])\n",
    "plt.xticks(rotation=45)\n",
    "plt.show()"
   ]
  },
  {
   "cell_type": "code",
   "execution_count": 136,
   "id": "b279449a",
   "metadata": {},
   "outputs": [],
   "source": [
    "whiteDfFix = whiteDf.drop('Unnamed: 4', axis=1)\n",
    "whiteDfFix.drop(7, inplace=True)\n",
    "whiteDfFix.drop(13, inplace=True)\n",
    "whiteDfFix.drop(8, inplace=True)"
   ]
  },
  {
   "cell_type": "code",
   "execution_count": 137,
   "id": "a9ded05a",
   "metadata": {},
   "outputs": [
    {
     "data": {
      "text/html": [
       "<div>\n",
       "<style scoped>\n",
       "    .dataframe tbody tr th:only-of-type {\n",
       "        vertical-align: middle;\n",
       "    }\n",
       "\n",
       "    .dataframe tbody tr th {\n",
       "        vertical-align: top;\n",
       "    }\n",
       "\n",
       "    .dataframe thead th {\n",
       "        text-align: right;\n",
       "    }\n",
       "</style>\n",
       "<table border=\"1\" class=\"dataframe\">\n",
       "  <thead>\n",
       "    <tr style=\"text-align: right;\">\n",
       "      <th></th>\n",
       "      <th>Year</th>\n",
       "      <th>Total Two parent families</th>\n",
       "      <th>Married</th>\n",
       "      <th>Unmarried</th>\n",
       "      <th>Total One parent families</th>\n",
       "      <th>Mother only</th>\n",
       "      <th>Father only</th>\n",
       "    </tr>\n",
       "  </thead>\n",
       "  <tbody>\n",
       "    <tr>\n",
       "      <th>9</th>\n",
       "      <td>2022</td>\n",
       "      <td>20645.0</td>\n",
       "      <td>19075.0</td>\n",
       "      <td>1569.0</td>\n",
       "      <td>6855.0</td>\n",
       "      <td>5260.0</td>\n",
       "      <td>1596.0</td>\n",
       "    </tr>\n",
       "    <tr>\n",
       "      <th>10</th>\n",
       "      <td>2021</td>\n",
       "      <td>20503.0</td>\n",
       "      <td>19060.0</td>\n",
       "      <td>1443.0</td>\n",
       "      <td>7051.0</td>\n",
       "      <td>5381.0</td>\n",
       "      <td>1670.0</td>\n",
       "    </tr>\n",
       "    <tr>\n",
       "      <th>11</th>\n",
       "      <td>2020</td>\n",
       "      <td>20712.0</td>\n",
       "      <td>19425.0</td>\n",
       "      <td>1287.0</td>\n",
       "      <td>6901.0</td>\n",
       "      <td>5341.0</td>\n",
       "      <td>1560.0</td>\n",
       "    </tr>\n",
       "    <tr>\n",
       "      <th>12</th>\n",
       "      <td>2019</td>\n",
       "      <td>21004.0</td>\n",
       "      <td>19589.0</td>\n",
       "      <td>1415.0</td>\n",
       "      <td>7116.0</td>\n",
       "      <td>5544.0</td>\n",
       "      <td>1572.0</td>\n",
       "    </tr>\n",
       "  </tbody>\n",
       "</table>\n",
       "</div>"
      ],
      "text/plain": [
       "    Year  Total Two parent families  Married  Unmarried  \\\n",
       "9   2022                    20645.0  19075.0     1569.0   \n",
       "10  2021                    20503.0  19060.0     1443.0   \n",
       "11  2020                    20712.0  19425.0     1287.0   \n",
       "12  2019                    21004.0  19589.0     1415.0   \n",
       "\n",
       "    Total One parent families  Mother only  Father only  \n",
       "9                      6855.0       5260.0       1596.0  \n",
       "10                     7051.0       5381.0       1670.0  \n",
       "11                     6901.0       5341.0       1560.0  \n",
       "12                     7116.0       5544.0       1572.0  "
      ]
     },
     "execution_count": 137,
     "metadata": {},
     "output_type": "execute_result"
    }
   ],
   "source": [
    "whiteDfFix"
   ]
  },
  {
   "cell_type": "code",
   "execution_count": 138,
   "id": "4d316cf0",
   "metadata": {},
   "outputs": [
    {
     "name": "stderr",
     "output_type": "stream",
     "text": [
      "C:\\Users\\s3dja\\anaconda3\\lib\\site-packages\\pandas\\core\\indexes\\base.py:6999: FutureWarning: In a future version, the Index constructor will not infer numeric dtypes when passed object-dtype sequences (matching Series behavior)\n",
      "  return Index(sequences[0], name=names)\n"
     ]
    }
   ],
   "source": [
    "whiteDfFix.set_index('Year')\n",
    "whiteDfFix[\"Year\"] = whiteDfFix[\"Year\"].astype(int)\n",
    "whiteDfFix[\"Married\"] = whiteDfFix[\"Married\"].astype(int)"
   ]
  },
  {
   "cell_type": "code",
   "execution_count": 139,
   "id": "83c5ac70",
   "metadata": {},
   "outputs": [
    {
     "data": {
      "image/png": "[encoded data removed]",
      "text/plain": [
       "<Figure size 640x480 with 1 Axes>"
      ]
     },
     "metadata": {},
     "output_type": "display_data"
    }
   ],
   "source": [
    "plt.bar(whiteDfFix[\"Year\"], whiteDfFix[\"Married\"])\n",
    "plt.xlabel(\"Year\")\n",
    "plt.ylabel(\"Married\")\n",
    "plt.xticks(whiteDfFix[\"Year\"])\n",
    "plt.xticks(rotation=45)\n",
    "plt.show()"
   ]
  },
  {
   "cell_type": "code",
   "execution_count": 140,
   "id": "f0048c70",
   "metadata": {},
   "outputs": [],
   "source": [
    "whiteDfFix = whiteDf.drop('Unnamed: 4', axis=1)\n",
    "whiteDfFix.drop(7, inplace=True)\n",
    "whiteDfFix.drop(13, inplace=True)\n",
    "whiteDfFix.drop(8, inplace=True)"
   ]
  },
  {
   "cell_type": "code",
   "execution_count": 141,
   "id": "129f8e10",
   "metadata": {},
   "outputs": [
    {
     "data": {
      "text/html": [
       "<div>\n",
       "<style scoped>\n",
       "    .dataframe tbody tr th:only-of-type {\n",
       "        vertical-align: middle;\n",
       "    }\n",
       "\n",
       "    .dataframe tbody tr th {\n",
       "        vertical-align: top;\n",
       "    }\n",
       "\n",
       "    .dataframe thead th {\n",
       "        text-align: right;\n",
       "    }\n",
       "</style>\n",
       "<table border=\"1\" class=\"dataframe\">\n",
       "  <thead>\n",
       "    <tr style=\"text-align: right;\">\n",
       "      <th></th>\n",
       "      <th>Year</th>\n",
       "      <th>Total Two parent families</th>\n",
       "      <th>Married</th>\n",
       "      <th>Unmarried</th>\n",
       "      <th>Total One parent families</th>\n",
       "      <th>Mother only</th>\n",
       "      <th>Father only</th>\n",
       "    </tr>\n",
       "  </thead>\n",
       "  <tbody>\n",
       "    <tr>\n",
       "      <th>9</th>\n",
       "      <td>2022</td>\n",
       "      <td>20645.0</td>\n",
       "      <td>19075.0</td>\n",
       "      <td>1569.0</td>\n",
       "      <td>6855.0</td>\n",
       "      <td>5260.0</td>\n",
       "      <td>1596.0</td>\n",
       "    </tr>\n",
       "    <tr>\n",
       "      <th>10</th>\n",
       "      <td>2021</td>\n",
       "      <td>20503.0</td>\n",
       "      <td>19060.0</td>\n",
       "      <td>1443.0</td>\n",
       "      <td>7051.0</td>\n",
       "      <td>5381.0</td>\n",
       "      <td>1670.0</td>\n",
       "    </tr>\n",
       "    <tr>\n",
       "      <th>11</th>\n",
       "      <td>2020</td>\n",
       "      <td>20712.0</td>\n",
       "      <td>19425.0</td>\n",
       "      <td>1287.0</td>\n",
       "      <td>6901.0</td>\n",
       "      <td>5341.0</td>\n",
       "      <td>1560.0</td>\n",
       "    </tr>\n",
       "    <tr>\n",
       "      <th>12</th>\n",
       "      <td>2019</td>\n",
       "      <td>21004.0</td>\n",
       "      <td>19589.0</td>\n",
       "      <td>1415.0</td>\n",
       "      <td>7116.0</td>\n",
       "      <td>5544.0</td>\n",
       "      <td>1572.0</td>\n",
       "    </tr>\n",
       "  </tbody>\n",
       "</table>\n",
       "</div>"
      ],
      "text/plain": [
       "    Year  Total Two parent families  Married  Unmarried  \\\n",
       "9   2022                    20645.0  19075.0     1569.0   \n",
       "10  2021                    20503.0  19060.0     1443.0   \n",
       "11  2020                    20712.0  19425.0     1287.0   \n",
       "12  2019                    21004.0  19589.0     1415.0   \n",
       "\n",
       "    Total One parent families  Mother only  Father only  \n",
       "9                      6855.0       5260.0       1596.0  \n",
       "10                     7051.0       5381.0       1670.0  \n",
       "11                     6901.0       5341.0       1560.0  \n",
       "12                     7116.0       5544.0       1572.0  "
      ]
     },
     "execution_count": 141,
     "metadata": {},
     "output_type": "execute_result"
    }
   ],
   "source": [
    "whiteDfFix"
   ]
  },
  {
   "cell_type": "code",
   "execution_count": 142,
   "id": "4702e8bd",
   "metadata": {},
   "outputs": [
    {
     "name": "stderr",
     "output_type": "stream",
     "text": [
      "C:\\Users\\s3dja\\anaconda3\\lib\\site-packages\\pandas\\core\\indexes\\base.py:6999: FutureWarning: In a future version, the Index constructor will not infer numeric dtypes when passed object-dtype sequences (matching Series behavior)\n",
      "  return Index(sequences[0], name=names)\n"
     ]
    }
   ],
   "source": [
    "whiteDfFix.set_index('Year')\n",
    "whiteDfFix[\"Year\"] = whiteDfFix[\"Year\"].astype(int)\n",
    "whiteDfFix[\"Unmarried\"] = whiteDfFix[\"Unmarried\"].astype(int)"
   ]
  },
  {
   "cell_type": "code",
   "execution_count": 143,
   "id": "918f45f3",
   "metadata": {},
   "outputs": [
    {
     "data": {
      "image/png": "[encoded data removed]",
      "text/plain": [
       "<Figure size 640x480 with 1 Axes>"
      ]
     },
     "metadata": {},
     "output_type": "display_data"
    }
   ],
   "source": [
    "plt.bar(whiteDfFix[\"Year\"], whiteDfFix[\"Unmarried\"])\n",
    "plt.xlabel(\"Year\")\n",
    "plt.ylabel(\"Unmarried\")\n",
    "plt.xticks(whiteDfFix[\"Year\"])\n",
    "plt.xticks(rotation=45)\n",
    "plt.show()"
   ]
  },
  {
   "cell_type": "code",
   "execution_count": 170,
   "id": "cc3d44f9",
   "metadata": {},
   "outputs": [],
   "source": [
    "blackDfFix = blackDf.drop('Unnamed: 4', axis=1)\n",
    "blackDfFix.drop(13, inplace=True)\n",
    "blackDfFix.drop(14, inplace=True)\n",
    "blackDfFix.drop(15, inplace=True)\n",
    "blackDfFix.drop(20, inplace=True)"
   ]
  },
  {
   "cell_type": "code",
   "execution_count": 171,
   "id": "0b716ae8",
   "metadata": {},
   "outputs": [
    {
     "data": {
      "text/html": [
       "<div>\n",
       "<style scoped>\n",
       "    .dataframe tbody tr th:only-of-type {\n",
       "        vertical-align: middle;\n",
       "    }\n",
       "\n",
       "    .dataframe tbody tr th {\n",
       "        vertical-align: top;\n",
       "    }\n",
       "\n",
       "    .dataframe thead th {\n",
       "        text-align: right;\n",
       "    }\n",
       "</style>\n",
       "<table border=\"1\" class=\"dataframe\">\n",
       "  <thead>\n",
       "    <tr style=\"text-align: right;\">\n",
       "      <th></th>\n",
       "      <th>Year</th>\n",
       "      <th>Total Two parent families</th>\n",
       "      <th>Married</th>\n",
       "      <th>Unmarried</th>\n",
       "      <th>Unnamed: 4</th>\n",
       "      <th>Total One parent families</th>\n",
       "      <th>Mother only</th>\n",
       "      <th>Father only</th>\n",
       "    </tr>\n",
       "  </thead>\n",
       "  <tbody>\n",
       "    <tr>\n",
       "      <th>13</th>\n",
       "      <td>NaN</td>\n",
       "      <td>NaN</td>\n",
       "      <td>NaN</td>\n",
       "      <td>NaN</td>\n",
       "      <td>NaN</td>\n",
       "      <td>NaN</td>\n",
       "      <td>NaN</td>\n",
       "      <td>NaN</td>\n",
       "    </tr>\n",
       "    <tr>\n",
       "      <th>14</th>\n",
       "      <td>NaN</td>\n",
       "      <td>NaN</td>\n",
       "      <td>NaN</td>\n",
       "      <td>NaN</td>\n",
       "      <td>NaN</td>\n",
       "      <td>NaN</td>\n",
       "      <td>NaN</td>\n",
       "      <td>NaN</td>\n",
       "    </tr>\n",
       "    <tr>\n",
       "      <th>15</th>\n",
       "      <td>Black</td>\n",
       "      <td>NaN</td>\n",
       "      <td>NaN</td>\n",
       "      <td>NaN</td>\n",
       "      <td>NaN</td>\n",
       "      <td>NaN</td>\n",
       "      <td>NaN</td>\n",
       "      <td>NaN</td>\n",
       "    </tr>\n",
       "    <tr>\n",
       "      <th>16</th>\n",
       "      <td>2022</td>\n",
       "      <td>2289.0</td>\n",
       "      <td>1952.0</td>\n",
       "      <td>337.0</td>\n",
       "      <td>NaN</td>\n",
       "      <td>3083.0</td>\n",
       "      <td>2661.0</td>\n",
       "      <td>422.0</td>\n",
       "    </tr>\n",
       "    <tr>\n",
       "      <th>17</th>\n",
       "      <td>2021</td>\n",
       "      <td>2269.0</td>\n",
       "      <td>1963.0</td>\n",
       "      <td>305.0</td>\n",
       "      <td>NaN</td>\n",
       "      <td>3115.0</td>\n",
       "      <td>2693.0</td>\n",
       "      <td>422.0</td>\n",
       "    </tr>\n",
       "    <tr>\n",
       "      <th>18</th>\n",
       "      <td>2020</td>\n",
       "      <td>2263.0</td>\n",
       "      <td>2023.0</td>\n",
       "      <td>239.0</td>\n",
       "      <td>NaN</td>\n",
       "      <td>2976.0</td>\n",
       "      <td>2622.0</td>\n",
       "      <td>354.0</td>\n",
       "    </tr>\n",
       "    <tr>\n",
       "      <th>19</th>\n",
       "      <td>2019</td>\n",
       "      <td>2211.0</td>\n",
       "      <td>1934.0</td>\n",
       "      <td>277.0</td>\n",
       "      <td>NaN</td>\n",
       "      <td>2960.0</td>\n",
       "      <td>2581.0</td>\n",
       "      <td>379.0</td>\n",
       "    </tr>\n",
       "    <tr>\n",
       "      <th>20</th>\n",
       "      <td>NaN</td>\n",
       "      <td>NaN</td>\n",
       "      <td>NaN</td>\n",
       "      <td>NaN</td>\n",
       "      <td>NaN</td>\n",
       "      <td>NaN</td>\n",
       "      <td>NaN</td>\n",
       "      <td>NaN</td>\n",
       "    </tr>\n",
       "  </tbody>\n",
       "</table>\n",
       "</div>"
      ],
      "text/plain": [
       "     Year  Total Two parent families  Married  Unmarried  Unnamed: 4  \\\n",
       "13    NaN                        NaN      NaN        NaN         NaN   \n",
       "14    NaN                        NaN      NaN        NaN         NaN   \n",
       "15  Black                        NaN      NaN        NaN         NaN   \n",
       "16   2022                     2289.0   1952.0      337.0         NaN   \n",
       "17   2021                     2269.0   1963.0      305.0         NaN   \n",
       "18   2020                     2263.0   2023.0      239.0         NaN   \n",
       "19   2019                     2211.0   1934.0      277.0         NaN   \n",
       "20    NaN                        NaN      NaN        NaN         NaN   \n",
       "\n",
       "    Total One parent families  Mother only  Father only  \n",
       "13                        NaN          NaN          NaN  \n",
       "14                        NaN          NaN          NaN  \n",
       "15                        NaN          NaN          NaN  \n",
       "16                     3083.0       2661.0        422.0  \n",
       "17                     3115.0       2693.0        422.0  \n",
       "18                     2976.0       2622.0        354.0  \n",
       "19                     2960.0       2581.0        379.0  \n",
       "20                        NaN          NaN          NaN  "
      ]
     },
     "execution_count": 171,
     "metadata": {},
     "output_type": "execute_result"
    }
   ],
   "source": [
    "blackDf"
   ]
  },
  {
   "cell_type": "code",
   "execution_count": 172,
   "id": "c301bca3",
   "metadata": {},
   "outputs": [
    {
     "name": "stderr",
     "output_type": "stream",
     "text": [
      "C:\\Users\\s3dja\\anaconda3\\lib\\site-packages\\pandas\\core\\indexes\\base.py:6999: FutureWarning: In a future version, the Index constructor will not infer numeric dtypes when passed object-dtype sequences (matching Series behavior)\n",
      "  return Index(sequences[0], name=names)\n"
     ]
    }
   ],
   "source": [
    "blackDfFix.set_index('Year')\n",
    "blackDfFix[\"Year\"] = blackDfFix[\"Year\"].astype(int)\n",
    "blackDfFix[\"Married\"] = blackDfFix[\"Married\"].astype(int)"
   ]
  },
  {
   "cell_type": "code",
   "execution_count": 173,
   "id": "5bbf9a5b",
   "metadata": {},
   "outputs": [
    {
     "data": {
      "image/png": "[encoded data removed]",
      "text/plain": [
       "<Figure size 640x480 with 1 Axes>"
      ]
     },
     "metadata": {},
     "output_type": "display_data"
    }
   ],
   "source": [
    "plt.bar(blackDfFix[\"Year\"], blackDfFix[\"Married\"])\n",
    "plt.xlabel(\"Year\")\n",
    "plt.ylabel(\"Married\")\n",
    "plt.xticks(blackDfFix[\"Year\"])\n",
    "plt.xticks(rotation=45)\n",
    "plt.show()"
   ]
  },
  {
   "cell_type": "code",
   "execution_count": 174,
   "id": "d947d17f",
   "metadata": {},
   "outputs": [],
   "source": [
    "blackDfFix = blackDf.drop('Unnamed: 4', axis=1)\n",
    "blackDfFix.drop(13, inplace=True)\n",
    "blackDfFix.drop(14, inplace=True)\n",
    "blackDfFix.drop(15, inplace=True)\n",
    "blackDfFix.drop(20, inplace=True)"
   ]
  },
  {
   "cell_type": "code",
   "execution_count": 191,
   "id": "1c05efa2",
   "metadata": {},
   "outputs": [
    {
     "data": {
      "text/html": [
       "<div>\n",
       "<style scoped>\n",
       "    .dataframe tbody tr th:only-of-type {\n",
       "        vertical-align: middle;\n",
       "    }\n",
       "\n",
       "    .dataframe tbody tr th {\n",
       "        vertical-align: top;\n",
       "    }\n",
       "\n",
       "    .dataframe thead th {\n",
       "        text-align: right;\n",
       "    }\n",
       "</style>\n",
       "<table border=\"1\" class=\"dataframe\">\n",
       "  <thead>\n",
       "    <tr style=\"text-align: right;\">\n",
       "      <th></th>\n",
       "      <th>Year</th>\n",
       "      <th>Total Two parent families</th>\n",
       "      <th>Married</th>\n",
       "      <th>Unmarried</th>\n",
       "      <th>Total One parent families</th>\n",
       "      <th>Mother only</th>\n",
       "      <th>Father only</th>\n",
       "    </tr>\n",
       "  </thead>\n",
       "  <tbody>\n",
       "    <tr>\n",
       "      <th>16</th>\n",
       "      <td>2022</td>\n",
       "      <td>2289.0</td>\n",
       "      <td>1952.0</td>\n",
       "      <td>337</td>\n",
       "      <td>3083.0</td>\n",
       "      <td>2661.0</td>\n",
       "      <td>422.0</td>\n",
       "    </tr>\n",
       "    <tr>\n",
       "      <th>17</th>\n",
       "      <td>2021</td>\n",
       "      <td>2269.0</td>\n",
       "      <td>1963.0</td>\n",
       "      <td>305</td>\n",
       "      <td>3115.0</td>\n",
       "      <td>2693.0</td>\n",
       "      <td>422.0</td>\n",
       "    </tr>\n",
       "    <tr>\n",
       "      <th>18</th>\n",
       "      <td>2020</td>\n",
       "      <td>2263.0</td>\n",
       "      <td>2023.0</td>\n",
       "      <td>239</td>\n",
       "      <td>2976.0</td>\n",
       "      <td>2622.0</td>\n",
       "      <td>354.0</td>\n",
       "    </tr>\n",
       "    <tr>\n",
       "      <th>19</th>\n",
       "      <td>2019</td>\n",
       "      <td>2211.0</td>\n",
       "      <td>1934.0</td>\n",
       "      <td>277</td>\n",
       "      <td>2960.0</td>\n",
       "      <td>2581.0</td>\n",
       "      <td>379.0</td>\n",
       "    </tr>\n",
       "  </tbody>\n",
       "</table>\n",
       "</div>"
      ],
      "text/plain": [
       "    Year  Total Two parent families  Married  Unmarried  \\\n",
       "16  2022                     2289.0   1952.0        337   \n",
       "17  2021                     2269.0   1963.0        305   \n",
       "18  2020                     2263.0   2023.0        239   \n",
       "19  2019                     2211.0   1934.0        277   \n",
       "\n",
       "    Total One parent families  Mother only  Father only  \n",
       "16                     3083.0       2661.0        422.0  \n",
       "17                     3115.0       2693.0        422.0  \n",
       "18                     2976.0       2622.0        354.0  \n",
       "19                     2960.0       2581.0        379.0  "
      ]
     },
     "execution_count": 191,
     "metadata": {},
     "output_type": "execute_result"
    }
   ],
   "source": [
    "blackDfFix"
   ]
  },
  {
   "cell_type": "code",
   "execution_count": 175,
   "id": "62339b63",
   "metadata": {},
   "outputs": [
    {
     "name": "stderr",
     "output_type": "stream",
     "text": [
      "C:\\Users\\s3dja\\anaconda3\\lib\\site-packages\\pandas\\core\\indexes\\base.py:6999: FutureWarning: In a future version, the Index constructor will not infer numeric dtypes when passed object-dtype sequences (matching Series behavior)\n",
      "  return Index(sequences[0], name=names)\n"
     ]
    }
   ],
   "source": [
    "blackDfFix.set_index('Year')\n",
    "blackDfFix[\"Year\"] = blackDfFix[\"Year\"].astype(int)\n",
    "blackDfFix[\"Unmarried\"] = blackDfFix[\"Unmarried\"].astype(int)"
   ]
  },
  {
   "cell_type": "code",
   "execution_count": 176,
   "id": "9b381655",
   "metadata": {},
   "outputs": [
    {
     "data": {
      "image/png": "[encoded data removed]",
      "text/plain": [
       "<Figure size 640x480 with 1 Axes>"
      ]
     },
     "metadata": {},
     "output_type": "display_data"
    }
   ],
   "source": [
    "plt.bar(blackDfFix[\"Year\"], blackDfFix[\"Unmarried\"])\n",
    "plt.xlabel(\"Year\")\n",
    "plt.ylabel(\"Unmarried\")\n",
    "plt.xticks(blackDfFix[\"Year\"])\n",
    "plt.xticks(rotation=45)\n",
    "plt.show()"
   ]
  },
  {
   "cell_type": "code",
   "execution_count": 197,
   "id": "12fc01bb",
   "metadata": {},
   "outputs": [],
   "source": [
    "hispanicDfFix = hispanicDf.drop('Unnamed: 4', axis=1)\n",
    "hispanicDfFix.drop(22, inplace=True)\n",
    "hispanicDfFix.drop(26, inplace=True)"
   ]
  },
  {
   "cell_type": "code",
   "execution_count": 198,
   "id": "0e46a4ff",
   "metadata": {},
   "outputs": [
    {
     "data": {
      "text/html": [
       "<div>\n",
       "<style scoped>\n",
       "    .dataframe tbody tr th:only-of-type {\n",
       "        vertical-align: middle;\n",
       "    }\n",
       "\n",
       "    .dataframe tbody tr th {\n",
       "        vertical-align: top;\n",
       "    }\n",
       "\n",
       "    .dataframe thead th {\n",
       "        text-align: right;\n",
       "    }\n",
       "</style>\n",
       "<table border=\"1\" class=\"dataframe\">\n",
       "  <thead>\n",
       "    <tr style=\"text-align: right;\">\n",
       "      <th></th>\n",
       "      <th>Year</th>\n",
       "      <th>Total Two parent families</th>\n",
       "      <th>Married</th>\n",
       "      <th>Unmarried</th>\n",
       "      <th>Total One parent families</th>\n",
       "      <th>Mother only</th>\n",
       "      <th>Father only</th>\n",
       "    </tr>\n",
       "  </thead>\n",
       "  <tbody>\n",
       "    <tr>\n",
       "      <th>23</th>\n",
       "      <td>2022</td>\n",
       "      <td>5544.0</td>\n",
       "      <td>4837.0</td>\n",
       "      <td>707.0</td>\n",
       "      <td>2672.0</td>\n",
       "      <td>2204.0</td>\n",
       "      <td>468.0</td>\n",
       "    </tr>\n",
       "    <tr>\n",
       "      <th>24</th>\n",
       "      <td>2021</td>\n",
       "      <td>5510.0</td>\n",
       "      <td>4854.0</td>\n",
       "      <td>656.0</td>\n",
       "      <td>2727.0</td>\n",
       "      <td>2250.0</td>\n",
       "      <td>477.0</td>\n",
       "    </tr>\n",
       "    <tr>\n",
       "      <th>25</th>\n",
       "      <td>2020</td>\n",
       "      <td>5401.0</td>\n",
       "      <td>4851.0</td>\n",
       "      <td>550.0</td>\n",
       "      <td>2673.0</td>\n",
       "      <td>2234.0</td>\n",
       "      <td>440.0</td>\n",
       "    </tr>\n",
       "  </tbody>\n",
       "</table>\n",
       "</div>"
      ],
      "text/plain": [
       "    Year  Total Two parent families  Married  Unmarried  \\\n",
       "23  2022                     5544.0   4837.0      707.0   \n",
       "24  2021                     5510.0   4854.0      656.0   \n",
       "25  2020                     5401.0   4851.0      550.0   \n",
       "\n",
       "    Total One parent families  Mother only  Father only  \n",
       "23                     2672.0       2204.0        468.0  \n",
       "24                     2727.0       2250.0        477.0  \n",
       "25                     2673.0       2234.0        440.0  "
      ]
     },
     "execution_count": 198,
     "metadata": {},
     "output_type": "execute_result"
    }
   ],
   "source": [
    "hispanicDfFix"
   ]
  },
  {
   "cell_type": "code",
   "execution_count": 199,
   "id": "fa24cc0e",
   "metadata": {},
   "outputs": [
    {
     "name": "stderr",
     "output_type": "stream",
     "text": [
      "C:\\Users\\s3dja\\anaconda3\\lib\\site-packages\\pandas\\core\\indexes\\base.py:6999: FutureWarning: In a future version, the Index constructor will not infer numeric dtypes when passed object-dtype sequences (matching Series behavior)\n",
      "  return Index(sequences[0], name=names)\n"
     ]
    }
   ],
   "source": [
    "hispanicDfFix.set_index('Year')\n",
    "hispanicDfFix[\"Year\"] = hispanicDfFix[\"Year\"].astype(int)\n",
    "hispanicDfFix[\"Married\"] = hispanicDfFix[\"Married\"].astype(int)"
   ]
  },
  {
   "cell_type": "code",
   "execution_count": 200,
   "id": "8b7c5649",
   "metadata": {},
   "outputs": [
    {
     "data": {
      "image/png": "[encoded data removed]",
      "text/plain": [
       "<Figure size 640x480 with 1 Axes>"
      ]
     },
     "metadata": {},
     "output_type": "display_data"
    }
   ],
   "source": [
    "plt.bar(hispanicDfFix[\"Year\"], hispanicDfFix[\"Married\"])\n",
    "plt.xlabel(\"Year\")\n",
    "plt.ylabel(\"Married\")\n",
    "plt.xticks(hispanicDfFix[\"Year\"])\n",
    "plt.xticks(rotation=45)\n",
    "plt.show() # 2019 and 2021 were the same rate"
   ]
  },
  {
   "cell_type": "code",
   "execution_count": 201,
   "id": "05e56cca",
   "metadata": {},
   "outputs": [],
   "source": [
    "hispanicDfFix = hispanicDf.drop('Unnamed: 4', axis=1)\n",
    "hispanicDfFix.drop(22, inplace=True)\n",
    "hispanicDfFix.drop(26, inplace=True)"
   ]
  },
  {
   "cell_type": "code",
   "execution_count": 202,
   "id": "2c3f2f85",
   "metadata": {},
   "outputs": [
    {
     "data": {
      "text/html": [
       "<div>\n",
       "<style scoped>\n",
       "    .dataframe tbody tr th:only-of-type {\n",
       "        vertical-align: middle;\n",
       "    }\n",
       "\n",
       "    .dataframe tbody tr th {\n",
       "        vertical-align: top;\n",
       "    }\n",
       "\n",
       "    .dataframe thead th {\n",
       "        text-align: right;\n",
       "    }\n",
       "</style>\n",
       "<table border=\"1\" class=\"dataframe\">\n",
       "  <thead>\n",
       "    <tr style=\"text-align: right;\">\n",
       "      <th></th>\n",
       "      <th>Year</th>\n",
       "      <th>Total Two parent families</th>\n",
       "      <th>Married</th>\n",
       "      <th>Unmarried</th>\n",
       "      <th>Total One parent families</th>\n",
       "      <th>Mother only</th>\n",
       "      <th>Father only</th>\n",
       "    </tr>\n",
       "  </thead>\n",
       "  <tbody>\n",
       "    <tr>\n",
       "      <th>23</th>\n",
       "      <td>2022</td>\n",
       "      <td>5544.0</td>\n",
       "      <td>4837.0</td>\n",
       "      <td>707.0</td>\n",
       "      <td>2672.0</td>\n",
       "      <td>2204.0</td>\n",
       "      <td>468.0</td>\n",
       "    </tr>\n",
       "    <tr>\n",
       "      <th>24</th>\n",
       "      <td>2021</td>\n",
       "      <td>5510.0</td>\n",
       "      <td>4854.0</td>\n",
       "      <td>656.0</td>\n",
       "      <td>2727.0</td>\n",
       "      <td>2250.0</td>\n",
       "      <td>477.0</td>\n",
       "    </tr>\n",
       "    <tr>\n",
       "      <th>25</th>\n",
       "      <td>2020</td>\n",
       "      <td>5401.0</td>\n",
       "      <td>4851.0</td>\n",
       "      <td>550.0</td>\n",
       "      <td>2673.0</td>\n",
       "      <td>2234.0</td>\n",
       "      <td>440.0</td>\n",
       "    </tr>\n",
       "  </tbody>\n",
       "</table>\n",
       "</div>"
      ],
      "text/plain": [
       "    Year  Total Two parent families  Married  Unmarried  \\\n",
       "23  2022                     5544.0   4837.0      707.0   \n",
       "24  2021                     5510.0   4854.0      656.0   \n",
       "25  2020                     5401.0   4851.0      550.0   \n",
       "\n",
       "    Total One parent families  Mother only  Father only  \n",
       "23                     2672.0       2204.0        468.0  \n",
       "24                     2727.0       2250.0        477.0  \n",
       "25                     2673.0       2234.0        440.0  "
      ]
     },
     "execution_count": 202,
     "metadata": {},
     "output_type": "execute_result"
    }
   ],
   "source": [
    "hispanicDfFix"
   ]
  },
  {
   "cell_type": "code",
   "execution_count": 203,
   "id": "da35fe7f",
   "metadata": {},
   "outputs": [
    {
     "name": "stderr",
     "output_type": "stream",
     "text": [
      "C:\\Users\\s3dja\\anaconda3\\lib\\site-packages\\pandas\\core\\indexes\\base.py:6999: FutureWarning: In a future version, the Index constructor will not infer numeric dtypes when passed object-dtype sequences (matching Series behavior)\n",
      "  return Index(sequences[0], name=names)\n"
     ]
    }
   ],
   "source": [
    "hispanicDfFix.set_index('Year')\n",
    "hispanicDfFix[\"Year\"] = hispanicDfFix[\"Year\"].astype(int)\n",
    "hispanicDfFix[\"Unmarried\"] = hispanicDfFix[\"Unmarried\"].astype(int)"
   ]
  },
  {
   "cell_type": "code",
   "execution_count": 204,
   "id": "f39c125e",
   "metadata": {},
   "outputs": [
    {
     "data": {
      "image/png": "[encoded data removed]",
      "text/plain": [
       "<Figure size 640x480 with 1 Axes>"
      ]
     },
     "metadata": {},
     "output_type": "display_data"
    }
   ],
   "source": [
    "plt.bar(hispanicDfFix[\"Year\"], hispanicDfFix[\"Unmarried\"])\n",
    "plt.xlabel(\"Year\")\n",
    "plt.ylabel(\"Unmarried\")\n",
    "plt.xticks(hispanicDfFix[\"Year\"])\n",
    "plt.xticks(rotation=45)\n",
    "plt.show() # 2019 and 2021 there was not much difference"
   ]
  },
  {
   "cell_type": "markdown",
   "id": "5fb9207a",
   "metadata": {},
   "source": [
    "# One parent families - graphs showing mother only vs father only"
   ]
  },
  {
   "cell_type": "code",
   "execution_count": 205,
   "id": "2d574cef",
   "metadata": {},
   "outputs": [],
   "source": [
    "allracesFix = allraces.drop('Unnamed: 4', axis=1)\n",
    "allracesFix.drop(1, inplace=True)\n",
    "allracesFix.drop(6, inplace=True)"
   ]
  },
  {
   "cell_type": "code",
   "execution_count": 206,
   "id": "15fcc3d8",
   "metadata": {},
   "outputs": [
    {
     "data": {
      "text/html": [
       "<div>\n",
       "<style scoped>\n",
       "    .dataframe tbody tr th:only-of-type {\n",
       "        vertical-align: middle;\n",
       "    }\n",
       "\n",
       "    .dataframe tbody tr th {\n",
       "        vertical-align: top;\n",
       "    }\n",
       "\n",
       "    .dataframe thead th {\n",
       "        text-align: right;\n",
       "    }\n",
       "</style>\n",
       "<table border=\"1\" class=\"dataframe\">\n",
       "  <thead>\n",
       "    <tr style=\"text-align: right;\">\n",
       "      <th></th>\n",
       "      <th>Year</th>\n",
       "      <th>Total Two parent families</th>\n",
       "      <th>Married</th>\n",
       "      <th>Unmarried</th>\n",
       "      <th>Total One parent families</th>\n",
       "      <th>Mother only</th>\n",
       "      <th>Father only</th>\n",
       "    </tr>\n",
       "  </thead>\n",
       "  <tbody>\n",
       "    <tr>\n",
       "      <th>2</th>\n",
       "      <td>2022</td>\n",
       "      <td>26105.0</td>\n",
       "      <td>24040.0</td>\n",
       "      <td>2065.0</td>\n",
       "      <td>10889.0</td>\n",
       "      <td>8657.0</td>\n",
       "      <td>2232.0</td>\n",
       "    </tr>\n",
       "    <tr>\n",
       "      <th>3</th>\n",
       "      <td>2021</td>\n",
       "      <td>25953.0</td>\n",
       "      <td>23992.0</td>\n",
       "      <td>1961.0</td>\n",
       "      <td>11091.0</td>\n",
       "      <td>8797.0</td>\n",
       "      <td>2294.0</td>\n",
       "    </tr>\n",
       "    <tr>\n",
       "      <th>4</th>\n",
       "      <td>2020</td>\n",
       "      <td>26161.0</td>\n",
       "      <td>24477.0</td>\n",
       "      <td>1684.0</td>\n",
       "      <td>10720.0</td>\n",
       "      <td>8625.0</td>\n",
       "      <td>2094.0</td>\n",
       "    </tr>\n",
       "    <tr>\n",
       "      <th>5</th>\n",
       "      <td>2019</td>\n",
       "      <td>26373.0</td>\n",
       "      <td>24509.0</td>\n",
       "      <td>1864.0</td>\n",
       "      <td>11008.0</td>\n",
       "      <td>8880.0</td>\n",
       "      <td>2128.0</td>\n",
       "    </tr>\n",
       "  </tbody>\n",
       "</table>\n",
       "</div>"
      ],
      "text/plain": [
       "   Year  Total Two parent families  Married  Unmarried  \\\n",
       "2  2022                    26105.0  24040.0     2065.0   \n",
       "3  2021                    25953.0  23992.0     1961.0   \n",
       "4  2020                    26161.0  24477.0     1684.0   \n",
       "5  2019                    26373.0  24509.0     1864.0   \n",
       "\n",
       "   Total One parent families  Mother only  Father only  \n",
       "2                    10889.0       8657.0       2232.0  \n",
       "3                    11091.0       8797.0       2294.0  \n",
       "4                    10720.0       8625.0       2094.0  \n",
       "5                    11008.0       8880.0       2128.0  "
      ]
     },
     "execution_count": 206,
     "metadata": {},
     "output_type": "execute_result"
    }
   ],
   "source": [
    "allracesFix"
   ]
  },
  {
   "cell_type": "code",
   "execution_count": 207,
   "id": "09ce70bd",
   "metadata": {},
   "outputs": [
    {
     "name": "stderr",
     "output_type": "stream",
     "text": [
      "C:\\Users\\s3dja\\anaconda3\\lib\\site-packages\\pandas\\core\\indexes\\base.py:6999: FutureWarning: In a future version, the Index constructor will not infer numeric dtypes when passed object-dtype sequences (matching Series behavior)\n",
      "  return Index(sequences[0], name=names)\n"
     ]
    }
   ],
   "source": [
    "allracesFix.set_index('Year')\n",
    "allracesFix[\"Year\"] = allracesFix[\"Year\"].astype(int)\n",
    "allracesFix[\"Mother only\"] = allracesFix[\"Mother only\"].astype(int)"
   ]
  },
  {
   "cell_type": "code",
   "execution_count": 208,
   "id": "a5f1251e",
   "metadata": {},
   "outputs": [
    {
     "data": {
      "image/png": "[encoded data removed]",
      "text/plain": [
       "<Figure size 640x480 with 1 Axes>"
      ]
     },
     "metadata": {},
     "output_type": "display_data"
    }
   ],
   "source": [
    "plt.bar(allracesFix[\"Year\"], allracesFix[\"Mother only\"])\n",
    "plt.xlabel(\"Year\")\n",
    "plt.ylabel(\"Mother only\")\n",
    "plt.xticks(allracesFix[\"Year\"])\n",
    "plt.xticks(rotation=45)\n",
    "plt.show()"
   ]
  },
  {
   "cell_type": "code",
   "execution_count": 209,
   "id": "724ca16d",
   "metadata": {},
   "outputs": [],
   "source": [
    "allracesFix = allraces.drop('Unnamed: 4', axis=1)\n",
    "allracesFix.drop(1, inplace=True)\n",
    "allracesFix.drop(6, inplace=True)"
   ]
  },
  {
   "cell_type": "code",
   "execution_count": 210,
   "id": "d111f195",
   "metadata": {},
   "outputs": [
    {
     "data": {
      "text/html": [
       "<div>\n",
       "<style scoped>\n",
       "    .dataframe tbody tr th:only-of-type {\n",
       "        vertical-align: middle;\n",
       "    }\n",
       "\n",
       "    .dataframe tbody tr th {\n",
       "        vertical-align: top;\n",
       "    }\n",
       "\n",
       "    .dataframe thead th {\n",
       "        text-align: right;\n",
       "    }\n",
       "</style>\n",
       "<table border=\"1\" class=\"dataframe\">\n",
       "  <thead>\n",
       "    <tr style=\"text-align: right;\">\n",
       "      <th></th>\n",
       "      <th>Year</th>\n",
       "      <th>Total Two parent families</th>\n",
       "      <th>Married</th>\n",
       "      <th>Unmarried</th>\n",
       "      <th>Total One parent families</th>\n",
       "      <th>Mother only</th>\n",
       "      <th>Father only</th>\n",
       "    </tr>\n",
       "  </thead>\n",
       "  <tbody>\n",
       "    <tr>\n",
       "      <th>2</th>\n",
       "      <td>2022</td>\n",
       "      <td>26105.0</td>\n",
       "      <td>24040.0</td>\n",
       "      <td>2065.0</td>\n",
       "      <td>10889.0</td>\n",
       "      <td>8657.0</td>\n",
       "      <td>2232.0</td>\n",
       "    </tr>\n",
       "    <tr>\n",
       "      <th>3</th>\n",
       "      <td>2021</td>\n",
       "      <td>25953.0</td>\n",
       "      <td>23992.0</td>\n",
       "      <td>1961.0</td>\n",
       "      <td>11091.0</td>\n",
       "      <td>8797.0</td>\n",
       "      <td>2294.0</td>\n",
       "    </tr>\n",
       "    <tr>\n",
       "      <th>4</th>\n",
       "      <td>2020</td>\n",
       "      <td>26161.0</td>\n",
       "      <td>24477.0</td>\n",
       "      <td>1684.0</td>\n",
       "      <td>10720.0</td>\n",
       "      <td>8625.0</td>\n",
       "      <td>2094.0</td>\n",
       "    </tr>\n",
       "    <tr>\n",
       "      <th>5</th>\n",
       "      <td>2019</td>\n",
       "      <td>26373.0</td>\n",
       "      <td>24509.0</td>\n",
       "      <td>1864.0</td>\n",
       "      <td>11008.0</td>\n",
       "      <td>8880.0</td>\n",
       "      <td>2128.0</td>\n",
       "    </tr>\n",
       "  </tbody>\n",
       "</table>\n",
       "</div>"
      ],
      "text/plain": [
       "   Year  Total Two parent families  Married  Unmarried  \\\n",
       "2  2022                    26105.0  24040.0     2065.0   \n",
       "3  2021                    25953.0  23992.0     1961.0   \n",
       "4  2020                    26161.0  24477.0     1684.0   \n",
       "5  2019                    26373.0  24509.0     1864.0   \n",
       "\n",
       "   Total One parent families  Mother only  Father only  \n",
       "2                    10889.0       8657.0       2232.0  \n",
       "3                    11091.0       8797.0       2294.0  \n",
       "4                    10720.0       8625.0       2094.0  \n",
       "5                    11008.0       8880.0       2128.0  "
      ]
     },
     "execution_count": 210,
     "metadata": {},
     "output_type": "execute_result"
    }
   ],
   "source": [
    "allracesFix"
   ]
  },
  {
   "cell_type": "code",
   "execution_count": 211,
   "id": "4ac9f343",
   "metadata": {},
   "outputs": [
    {
     "name": "stderr",
     "output_type": "stream",
     "text": [
      "C:\\Users\\s3dja\\anaconda3\\lib\\site-packages\\pandas\\core\\indexes\\base.py:6999: FutureWarning: In a future version, the Index constructor will not infer numeric dtypes when passed object-dtype sequences (matching Series behavior)\n",
      "  return Index(sequences[0], name=names)\n"
     ]
    }
   ],
   "source": [
    "allracesFix.set_index('Year')\n",
    "allracesFix[\"Year\"] = allracesFix[\"Year\"].astype(int)\n",
    "allracesFix[\"Father only\"] = allracesFix[\"Father only\"].astype(int)"
   ]
  },
  {
   "cell_type": "code",
   "execution_count": 212,
   "id": "cfdcbd19",
   "metadata": {},
   "outputs": [
    {
     "data": {
      "image/png": "[encoded data removed]",
      "text/plain": [
       "<Figure size 640x480 with 1 Axes>"
      ]
     },
     "metadata": {},
     "output_type": "display_data"
    }
   ],
   "source": [
    "plt.bar(allracesFix[\"Year\"], allracesFix[\"Father only\"])\n",
    "plt.xlabel(\"Year\")\n",
    "plt.ylabel(\"Father only\")\n",
    "plt.xticks(allracesFix[\"Year\"])\n",
    "plt.xticks(rotation=45)\n",
    "plt.show()"
   ]
  },
  {
   "cell_type": "code",
   "execution_count": 213,
   "id": "0bec0aa8",
   "metadata": {},
   "outputs": [],
   "source": [
    "whiteDfFix = whiteDf.drop('Unnamed: 4', axis=1)\n",
    "whiteDfFix.drop(7, inplace=True)\n",
    "whiteDfFix.drop(13, inplace=True)\n",
    "whiteDfFix.drop(8, inplace=True)"
   ]
  },
  {
   "cell_type": "code",
   "execution_count": 214,
   "id": "d486bd8c",
   "metadata": {},
   "outputs": [
    {
     "data": {
      "text/html": [
       "<div>\n",
       "<style scoped>\n",
       "    .dataframe tbody tr th:only-of-type {\n",
       "        vertical-align: middle;\n",
       "    }\n",
       "\n",
       "    .dataframe tbody tr th {\n",
       "        vertical-align: top;\n",
       "    }\n",
       "\n",
       "    .dataframe thead th {\n",
       "        text-align: right;\n",
       "    }\n",
       "</style>\n",
       "<table border=\"1\" class=\"dataframe\">\n",
       "  <thead>\n",
       "    <tr style=\"text-align: right;\">\n",
       "      <th></th>\n",
       "      <th>Year</th>\n",
       "      <th>Total Two parent families</th>\n",
       "      <th>Married</th>\n",
       "      <th>Unmarried</th>\n",
       "      <th>Total One parent families</th>\n",
       "      <th>Mother only</th>\n",
       "      <th>Father only</th>\n",
       "    </tr>\n",
       "  </thead>\n",
       "  <tbody>\n",
       "    <tr>\n",
       "      <th>9</th>\n",
       "      <td>2022</td>\n",
       "      <td>20645.0</td>\n",
       "      <td>19075.0</td>\n",
       "      <td>1569.0</td>\n",
       "      <td>6855.0</td>\n",
       "      <td>5260.0</td>\n",
       "      <td>1596.0</td>\n",
       "    </tr>\n",
       "    <tr>\n",
       "      <th>10</th>\n",
       "      <td>2021</td>\n",
       "      <td>20503.0</td>\n",
       "      <td>19060.0</td>\n",
       "      <td>1443.0</td>\n",
       "      <td>7051.0</td>\n",
       "      <td>5381.0</td>\n",
       "      <td>1670.0</td>\n",
       "    </tr>\n",
       "    <tr>\n",
       "      <th>11</th>\n",
       "      <td>2020</td>\n",
       "      <td>20712.0</td>\n",
       "      <td>19425.0</td>\n",
       "      <td>1287.0</td>\n",
       "      <td>6901.0</td>\n",
       "      <td>5341.0</td>\n",
       "      <td>1560.0</td>\n",
       "    </tr>\n",
       "    <tr>\n",
       "      <th>12</th>\n",
       "      <td>2019</td>\n",
       "      <td>21004.0</td>\n",
       "      <td>19589.0</td>\n",
       "      <td>1415.0</td>\n",
       "      <td>7116.0</td>\n",
       "      <td>5544.0</td>\n",
       "      <td>1572.0</td>\n",
       "    </tr>\n",
       "  </tbody>\n",
       "</table>\n",
       "</div>"
      ],
      "text/plain": [
       "    Year  Total Two parent families  Married  Unmarried  \\\n",
       "9   2022                    20645.0  19075.0     1569.0   \n",
       "10  2021                    20503.0  19060.0     1443.0   \n",
       "11  2020                    20712.0  19425.0     1287.0   \n",
       "12  2019                    21004.0  19589.0     1415.0   \n",
       "\n",
       "    Total One parent families  Mother only  Father only  \n",
       "9                      6855.0       5260.0       1596.0  \n",
       "10                     7051.0       5381.0       1670.0  \n",
       "11                     6901.0       5341.0       1560.0  \n",
       "12                     7116.0       5544.0       1572.0  "
      ]
     },
     "execution_count": 214,
     "metadata": {},
     "output_type": "execute_result"
    }
   ],
   "source": [
    "whiteDfFix"
   ]
  },
  {
   "cell_type": "code",
   "execution_count": 215,
   "id": "4e6df07b",
   "metadata": {},
   "outputs": [
    {
     "name": "stderr",
     "output_type": "stream",
     "text": [
      "C:\\Users\\s3dja\\anaconda3\\lib\\site-packages\\pandas\\core\\indexes\\base.py:6999: FutureWarning: In a future version, the Index constructor will not infer numeric dtypes when passed object-dtype sequences (matching Series behavior)\n",
      "  return Index(sequences[0], name=names)\n"
     ]
    }
   ],
   "source": [
    "whiteDfFix.set_index('Year')\n",
    "whiteDfFix[\"Year\"] = whiteDfFix[\"Year\"].astype(int)\n",
    "whiteDfFix[\"Mother only\"] = whiteDfFix[\"Mother only\"].astype(int)"
   ]
  },
  {
   "cell_type": "code",
   "execution_count": 216,
   "id": "7e5cf3dc",
   "metadata": {},
   "outputs": [
    {
     "data": {
      "image/png": "[encoded data removed]",
      "text/plain": [
       "<Figure size 640x480 with 1 Axes>"
      ]
     },
     "metadata": {},
     "output_type": "display_data"
    }
   ],
   "source": [
    "plt.bar(whiteDfFix[\"Year\"], whiteDfFix[\"Mother only\"])\n",
    "plt.xlabel(\"Year\")\n",
    "plt.ylabel(\"Mother only\")\n",
    "plt.xticks(whiteDfFix[\"Year\"])\n",
    "plt.xticks(rotation=45)\n",
    "plt.show()"
   ]
  },
  {
   "cell_type": "code",
   "execution_count": 217,
   "id": "3ffbcfc5",
   "metadata": {},
   "outputs": [],
   "source": [
    "whiteDfFix = whiteDf.drop('Unnamed: 4', axis=1)\n",
    "whiteDfFix.drop(7, inplace=True)\n",
    "whiteDfFix.drop(13, inplace=True)\n",
    "whiteDfFix.drop(8, inplace=True)"
   ]
  },
  {
   "cell_type": "code",
   "execution_count": 218,
   "id": "fa6cff19",
   "metadata": {},
   "outputs": [
    {
     "data": {
      "text/html": [
       "<div>\n",
       "<style scoped>\n",
       "    .dataframe tbody tr th:only-of-type {\n",
       "        vertical-align: middle;\n",
       "    }\n",
       "\n",
       "    .dataframe tbody tr th {\n",
       "        vertical-align: top;\n",
       "    }\n",
       "\n",
       "    .dataframe thead th {\n",
       "        text-align: right;\n",
       "    }\n",
       "</style>\n",
       "<table border=\"1\" class=\"dataframe\">\n",
       "  <thead>\n",
       "    <tr style=\"text-align: right;\">\n",
       "      <th></th>\n",
       "      <th>Year</th>\n",
       "      <th>Total Two parent families</th>\n",
       "      <th>Married</th>\n",
       "      <th>Unmarried</th>\n",
       "      <th>Total One parent families</th>\n",
       "      <th>Mother only</th>\n",
       "      <th>Father only</th>\n",
       "    </tr>\n",
       "  </thead>\n",
       "  <tbody>\n",
       "    <tr>\n",
       "      <th>9</th>\n",
       "      <td>2022</td>\n",
       "      <td>20645.0</td>\n",
       "      <td>19075.0</td>\n",
       "      <td>1569.0</td>\n",
       "      <td>6855.0</td>\n",
       "      <td>5260.0</td>\n",
       "      <td>1596.0</td>\n",
       "    </tr>\n",
       "    <tr>\n",
       "      <th>10</th>\n",
       "      <td>2021</td>\n",
       "      <td>20503.0</td>\n",
       "      <td>19060.0</td>\n",
       "      <td>1443.0</td>\n",
       "      <td>7051.0</td>\n",
       "      <td>5381.0</td>\n",
       "      <td>1670.0</td>\n",
       "    </tr>\n",
       "    <tr>\n",
       "      <th>11</th>\n",
       "      <td>2020</td>\n",
       "      <td>20712.0</td>\n",
       "      <td>19425.0</td>\n",
       "      <td>1287.0</td>\n",
       "      <td>6901.0</td>\n",
       "      <td>5341.0</td>\n",
       "      <td>1560.0</td>\n",
       "    </tr>\n",
       "    <tr>\n",
       "      <th>12</th>\n",
       "      <td>2019</td>\n",
       "      <td>21004.0</td>\n",
       "      <td>19589.0</td>\n",
       "      <td>1415.0</td>\n",
       "      <td>7116.0</td>\n",
       "      <td>5544.0</td>\n",
       "      <td>1572.0</td>\n",
       "    </tr>\n",
       "  </tbody>\n",
       "</table>\n",
       "</div>"
      ],
      "text/plain": [
       "    Year  Total Two parent families  Married  Unmarried  \\\n",
       "9   2022                    20645.0  19075.0     1569.0   \n",
       "10  2021                    20503.0  19060.0     1443.0   \n",
       "11  2020                    20712.0  19425.0     1287.0   \n",
       "12  2019                    21004.0  19589.0     1415.0   \n",
       "\n",
       "    Total One parent families  Mother only  Father only  \n",
       "9                      6855.0       5260.0       1596.0  \n",
       "10                     7051.0       5381.0       1670.0  \n",
       "11                     6901.0       5341.0       1560.0  \n",
       "12                     7116.0       5544.0       1572.0  "
      ]
     },
     "execution_count": 218,
     "metadata": {},
     "output_type": "execute_result"
    }
   ],
   "source": [
    "whiteDfFix"
   ]
  },
  {
   "cell_type": "code",
   "execution_count": 219,
   "id": "6d12d08a",
   "metadata": {},
   "outputs": [
    {
     "name": "stderr",
     "output_type": "stream",
     "text": [
      "C:\\Users\\s3dja\\anaconda3\\lib\\site-packages\\pandas\\core\\indexes\\base.py:6999: FutureWarning: In a future version, the Index constructor will not infer numeric dtypes when passed object-dtype sequences (matching Series behavior)\n",
      "  return Index(sequences[0], name=names)\n"
     ]
    }
   ],
   "source": [
    "whiteDfFix.set_index('Year')\n",
    "whiteDfFix[\"Year\"] = whiteDfFix[\"Year\"].astype(int)\n",
    "whiteDfFix[\"Father only\"] = whiteDfFix[\"Father only\"].astype(int)"
   ]
  },
  {
   "cell_type": "code",
   "execution_count": 220,
   "id": "beba21cd",
   "metadata": {},
   "outputs": [
    {
     "data": {
      "image/png": "[encoded data removed]",
      "text/plain": [
       "<Figure size 640x480 with 1 Axes>"
      ]
     },
     "metadata": {},
     "output_type": "display_data"
    }
   ],
   "source": [
    "plt.bar(whiteDfFix[\"Year\"], whiteDfFix[\"Father only\"])\n",
    "plt.xlabel(\"Year\")\n",
    "plt.ylabel(\"Father only\")\n",
    "plt.xticks(whiteDfFix[\"Year\"])\n",
    "plt.xticks(rotation=45)\n",
    "plt.show()"
   ]
  },
  {
   "cell_type": "code",
   "execution_count": 221,
   "id": "0fd34fd9",
   "metadata": {},
   "outputs": [],
   "source": [
    "blackDfFix = blackDf.drop('Unnamed: 4', axis=1)\n",
    "blackDfFix.drop(13, inplace=True)\n",
    "blackDfFix.drop(14, inplace=True)\n",
    "blackDfFix.drop(15, inplace=True)\n",
    "blackDfFix.drop(20, inplace=True)"
   ]
  },
  {
   "cell_type": "code",
   "execution_count": null,
   "id": "a2e983bd",
   "metadata": {},
   "outputs": [],
   "source": [
    "blackDfFix"
   ]
  },
  {
   "cell_type": "code",
   "execution_count": 222,
   "id": "9bdff285",
   "metadata": {},
   "outputs": [
    {
     "name": "stderr",
     "output_type": "stream",
     "text": [
      "C:\\Users\\s3dja\\anaconda3\\lib\\site-packages\\pandas\\core\\indexes\\base.py:6999: FutureWarning: In a future version, the Index constructor will not infer numeric dtypes when passed object-dtype sequences (matching Series behavior)\n",
      "  return Index(sequences[0], name=names)\n"
     ]
    }
   ],
   "source": [
    "blackDfFix.set_index('Year')\n",
    "blackDfFix[\"Year\"] = blackDfFix[\"Year\"].astype(int)\n",
    "blackDfFix[\"Mother only\"] = blackDfFix[\"Mother only\"].astype(int)"
   ]
  },
  {
   "cell_type": "code",
   "execution_count": 223,
   "id": "e59c9299",
   "metadata": {},
   "outputs": [
    {
     "data": {
      "image/png": "[encoded data removed]",
      "text/plain": [
       "<Figure size 640x480 with 1 Axes>"
      ]
     },
     "metadata": {},
     "output_type": "display_data"
    }
   ],
   "source": [
    "plt.bar(blackDfFix[\"Year\"], blackDfFix[\"Mother only\"])\n",
    "plt.xlabel(\"Year\")\n",
    "plt.ylabel(\"Mother only\")\n",
    "plt.xticks(blackDfFix[\"Year\"])\n",
    "plt.xticks(rotation=45)\n",
    "plt.show()"
   ]
  },
  {
   "cell_type": "code",
   "execution_count": 224,
   "id": "8b81fad2",
   "metadata": {},
   "outputs": [],
   "source": [
    "blackDfFix = blackDf.drop('Unnamed: 4', axis=1)\n",
    "blackDfFix.drop(13, inplace=True)\n",
    "blackDfFix.drop(14, inplace=True)\n",
    "blackDfFix.drop(15, inplace=True)\n",
    "blackDfFix.drop(20, inplace=True)"
   ]
  },
  {
   "cell_type": "code",
   "execution_count": 225,
   "id": "2cf465f0",
   "metadata": {},
   "outputs": [
    {
     "data": {
      "text/html": [
       "<div>\n",
       "<style scoped>\n",
       "    .dataframe tbody tr th:only-of-type {\n",
       "        vertical-align: middle;\n",
       "    }\n",
       "\n",
       "    .dataframe tbody tr th {\n",
       "        vertical-align: top;\n",
       "    }\n",
       "\n",
       "    .dataframe thead th {\n",
       "        text-align: right;\n",
       "    }\n",
       "</style>\n",
       "<table border=\"1\" class=\"dataframe\">\n",
       "  <thead>\n",
       "    <tr style=\"text-align: right;\">\n",
       "      <th></th>\n",
       "      <th>Year</th>\n",
       "      <th>Total Two parent families</th>\n",
       "      <th>Married</th>\n",
       "      <th>Unmarried</th>\n",
       "      <th>Total One parent families</th>\n",
       "      <th>Mother only</th>\n",
       "      <th>Father only</th>\n",
       "    </tr>\n",
       "  </thead>\n",
       "  <tbody>\n",
       "    <tr>\n",
       "      <th>16</th>\n",
       "      <td>2022</td>\n",
       "      <td>2289.0</td>\n",
       "      <td>1952.0</td>\n",
       "      <td>337.0</td>\n",
       "      <td>3083.0</td>\n",
       "      <td>2661.0</td>\n",
       "      <td>422.0</td>\n",
       "    </tr>\n",
       "    <tr>\n",
       "      <th>17</th>\n",
       "      <td>2021</td>\n",
       "      <td>2269.0</td>\n",
       "      <td>1963.0</td>\n",
       "      <td>305.0</td>\n",
       "      <td>3115.0</td>\n",
       "      <td>2693.0</td>\n",
       "      <td>422.0</td>\n",
       "    </tr>\n",
       "    <tr>\n",
       "      <th>18</th>\n",
       "      <td>2020</td>\n",
       "      <td>2263.0</td>\n",
       "      <td>2023.0</td>\n",
       "      <td>239.0</td>\n",
       "      <td>2976.0</td>\n",
       "      <td>2622.0</td>\n",
       "      <td>354.0</td>\n",
       "    </tr>\n",
       "    <tr>\n",
       "      <th>19</th>\n",
       "      <td>2019</td>\n",
       "      <td>2211.0</td>\n",
       "      <td>1934.0</td>\n",
       "      <td>277.0</td>\n",
       "      <td>2960.0</td>\n",
       "      <td>2581.0</td>\n",
       "      <td>379.0</td>\n",
       "    </tr>\n",
       "  </tbody>\n",
       "</table>\n",
       "</div>"
      ],
      "text/plain": [
       "    Year  Total Two parent families  Married  Unmarried  \\\n",
       "16  2022                     2289.0   1952.0      337.0   \n",
       "17  2021                     2269.0   1963.0      305.0   \n",
       "18  2020                     2263.0   2023.0      239.0   \n",
       "19  2019                     2211.0   1934.0      277.0   \n",
       "\n",
       "    Total One parent families  Mother only  Father only  \n",
       "16                     3083.0       2661.0        422.0  \n",
       "17                     3115.0       2693.0        422.0  \n",
       "18                     2976.0       2622.0        354.0  \n",
       "19                     2960.0       2581.0        379.0  "
      ]
     },
     "execution_count": 225,
     "metadata": {},
     "output_type": "execute_result"
    }
   ],
   "source": [
    "blackDfFix"
   ]
  },
  {
   "cell_type": "code",
   "execution_count": 226,
   "id": "1c81d078",
   "metadata": {},
   "outputs": [
    {
     "name": "stderr",
     "output_type": "stream",
     "text": [
      "C:\\Users\\s3dja\\anaconda3\\lib\\site-packages\\pandas\\core\\indexes\\base.py:6999: FutureWarning: In a future version, the Index constructor will not infer numeric dtypes when passed object-dtype sequences (matching Series behavior)\n",
      "  return Index(sequences[0], name=names)\n"
     ]
    }
   ],
   "source": [
    "blackDfFix.set_index('Year')\n",
    "blackDfFix[\"Year\"] = blackDfFix[\"Year\"].astype(int)\n",
    "blackDfFix[\"Father only\"] = blackDfFix[\"Father only\"].astype(int)"
   ]
  },
  {
   "cell_type": "code",
   "execution_count": 227,
   "id": "8f2d2f41",
   "metadata": {},
   "outputs": [
    {
     "data": {
      "image/png": "[encoded data removed]",
      "text/plain": [
       "<Figure size 640x480 with 1 Axes>"
      ]
     },
     "metadata": {},
     "output_type": "display_data"
    }
   ],
   "source": [
    "plt.bar(blackDfFix[\"Year\"], blackDfFix[\"Father only\"])\n",
    "plt.xlabel(\"Year\")\n",
    "plt.ylabel(\"Father only\")\n",
    "plt.xticks(blackDfFix[\"Year\"])\n",
    "plt.xticks(rotation=45)\n",
    "plt.show()"
   ]
  },
  {
   "cell_type": "code",
   "execution_count": 228,
   "id": "a261594f",
   "metadata": {},
   "outputs": [],
   "source": [
    "hispanicDfFix = hispanicDf.drop('Unnamed: 4', axis=1)\n",
    "hispanicDfFix.drop(22, inplace=True)\n",
    "hispanicDfFix.drop(26, inplace=True)"
   ]
  },
  {
   "cell_type": "code",
   "execution_count": 229,
   "id": "36b9e007",
   "metadata": {},
   "outputs": [
    {
     "data": {
      "text/html": [
       "<div>\n",
       "<style scoped>\n",
       "    .dataframe tbody tr th:only-of-type {\n",
       "        vertical-align: middle;\n",
       "    }\n",
       "\n",
       "    .dataframe tbody tr th {\n",
       "        vertical-align: top;\n",
       "    }\n",
       "\n",
       "    .dataframe thead th {\n",
       "        text-align: right;\n",
       "    }\n",
       "</style>\n",
       "<table border=\"1\" class=\"dataframe\">\n",
       "  <thead>\n",
       "    <tr style=\"text-align: right;\">\n",
       "      <th></th>\n",
       "      <th>Year</th>\n",
       "      <th>Total Two parent families</th>\n",
       "      <th>Married</th>\n",
       "      <th>Unmarried</th>\n",
       "      <th>Total One parent families</th>\n",
       "      <th>Mother only</th>\n",
       "      <th>Father only</th>\n",
       "    </tr>\n",
       "  </thead>\n",
       "  <tbody>\n",
       "    <tr>\n",
       "      <th>23</th>\n",
       "      <td>2022</td>\n",
       "      <td>5544.0</td>\n",
       "      <td>4837.0</td>\n",
       "      <td>707.0</td>\n",
       "      <td>2672.0</td>\n",
       "      <td>2204.0</td>\n",
       "      <td>468.0</td>\n",
       "    </tr>\n",
       "    <tr>\n",
       "      <th>24</th>\n",
       "      <td>2021</td>\n",
       "      <td>5510.0</td>\n",
       "      <td>4854.0</td>\n",
       "      <td>656.0</td>\n",
       "      <td>2727.0</td>\n",
       "      <td>2250.0</td>\n",
       "      <td>477.0</td>\n",
       "    </tr>\n",
       "    <tr>\n",
       "      <th>25</th>\n",
       "      <td>2020</td>\n",
       "      <td>5401.0</td>\n",
       "      <td>4851.0</td>\n",
       "      <td>550.0</td>\n",
       "      <td>2673.0</td>\n",
       "      <td>2234.0</td>\n",
       "      <td>440.0</td>\n",
       "    </tr>\n",
       "  </tbody>\n",
       "</table>\n",
       "</div>"
      ],
      "text/plain": [
       "    Year  Total Two parent families  Married  Unmarried  \\\n",
       "23  2022                     5544.0   4837.0      707.0   \n",
       "24  2021                     5510.0   4854.0      656.0   \n",
       "25  2020                     5401.0   4851.0      550.0   \n",
       "\n",
       "    Total One parent families  Mother only  Father only  \n",
       "23                     2672.0       2204.0        468.0  \n",
       "24                     2727.0       2250.0        477.0  \n",
       "25                     2673.0       2234.0        440.0  "
      ]
     },
     "execution_count": 229,
     "metadata": {},
     "output_type": "execute_result"
    }
   ],
   "source": [
    "hispanicDfFix"
   ]
  },
  {
   "cell_type": "code",
   "execution_count": 230,
   "id": "27318688",
   "metadata": {},
   "outputs": [
    {
     "name": "stderr",
     "output_type": "stream",
     "text": [
      "C:\\Users\\s3dja\\anaconda3\\lib\\site-packages\\pandas\\core\\indexes\\base.py:6999: FutureWarning: In a future version, the Index constructor will not infer numeric dtypes when passed object-dtype sequences (matching Series behavior)\n",
      "  return Index(sequences[0], name=names)\n"
     ]
    }
   ],
   "source": [
    "hispanicDfFix.set_index('Year')\n",
    "hispanicDfFix[\"Year\"] = hispanicDfFix[\"Year\"].astype(int)\n",
    "hispanicDfFix[\"Mother only\"] = hispanicDfFix[\"Mother only\"].astype(int)"
   ]
  },
  {
   "cell_type": "code",
   "execution_count": 231,
   "id": "3bcf5fdf",
   "metadata": {},
   "outputs": [
    {
     "data": {
      "image/png": "[encoded data removed]",
      "text/plain": [
       "<Figure size 640x480 with 1 Axes>"
      ]
     },
     "metadata": {},
     "output_type": "display_data"
    }
   ],
   "source": [
    "plt.bar(hispanicDfFix[\"Year\"], hispanicDfFix[\"Mother only\"])\n",
    "plt.xlabel(\"Year\")\n",
    "plt.ylabel(\"Mother only\")\n",
    "plt.xticks(hispanicDfFix[\"Year\"])\n",
    "plt.xticks(rotation=45)\n",
    "plt.show()"
   ]
  },
  {
   "cell_type": "code",
   "execution_count": 232,
   "id": "83c33c3f",
   "metadata": {},
   "outputs": [],
   "source": [
    "hispanicDfFix = hispanicDf.drop('Unnamed: 4', axis=1)\n",
    "hispanicDfFix.drop(22, inplace=True)\n",
    "hispanicDfFix.drop(26, inplace=True)"
   ]
  },
  {
   "cell_type": "code",
   "execution_count": 233,
   "id": "1c5dd7eb",
   "metadata": {},
   "outputs": [
    {
     "data": {
      "text/html": [
       "<div>\n",
       "<style scoped>\n",
       "    .dataframe tbody tr th:only-of-type {\n",
       "        vertical-align: middle;\n",
       "    }\n",
       "\n",
       "    .dataframe tbody tr th {\n",
       "        vertical-align: top;\n",
       "    }\n",
       "\n",
       "    .dataframe thead th {\n",
       "        text-align: right;\n",
       "    }\n",
       "</style>\n",
       "<table border=\"1\" class=\"dataframe\">\n",
       "  <thead>\n",
       "    <tr style=\"text-align: right;\">\n",
       "      <th></th>\n",
       "      <th>Year</th>\n",
       "      <th>Total Two parent families</th>\n",
       "      <th>Married</th>\n",
       "      <th>Unmarried</th>\n",
       "      <th>Total One parent families</th>\n",
       "      <th>Mother only</th>\n",
       "      <th>Father only</th>\n",
       "    </tr>\n",
       "  </thead>\n",
       "  <tbody>\n",
       "    <tr>\n",
       "      <th>23</th>\n",
       "      <td>2022</td>\n",
       "      <td>5544.0</td>\n",
       "      <td>4837.0</td>\n",
       "      <td>707.0</td>\n",
       "      <td>2672.0</td>\n",
       "      <td>2204.0</td>\n",
       "      <td>468.0</td>\n",
       "    </tr>\n",
       "    <tr>\n",
       "      <th>24</th>\n",
       "      <td>2021</td>\n",
       "      <td>5510.0</td>\n",
       "      <td>4854.0</td>\n",
       "      <td>656.0</td>\n",
       "      <td>2727.0</td>\n",
       "      <td>2250.0</td>\n",
       "      <td>477.0</td>\n",
       "    </tr>\n",
       "    <tr>\n",
       "      <th>25</th>\n",
       "      <td>2020</td>\n",
       "      <td>5401.0</td>\n",
       "      <td>4851.0</td>\n",
       "      <td>550.0</td>\n",
       "      <td>2673.0</td>\n",
       "      <td>2234.0</td>\n",
       "      <td>440.0</td>\n",
       "    </tr>\n",
       "  </tbody>\n",
       "</table>\n",
       "</div>"
      ],
      "text/plain": [
       "    Year  Total Two parent families  Married  Unmarried  \\\n",
       "23  2022                     5544.0   4837.0      707.0   \n",
       "24  2021                     5510.0   4854.0      656.0   \n",
       "25  2020                     5401.0   4851.0      550.0   \n",
       "\n",
       "    Total One parent families  Mother only  Father only  \n",
       "23                     2672.0       2204.0        468.0  \n",
       "24                     2727.0       2250.0        477.0  \n",
       "25                     2673.0       2234.0        440.0  "
      ]
     },
     "execution_count": 233,
     "metadata": {},
     "output_type": "execute_result"
    }
   ],
   "source": [
    "hispanicDfFix"
   ]
  },
  {
   "cell_type": "code",
   "execution_count": 234,
   "id": "3a630a6d",
   "metadata": {},
   "outputs": [
    {
     "name": "stderr",
     "output_type": "stream",
     "text": [
      "C:\\Users\\s3dja\\anaconda3\\lib\\site-packages\\pandas\\core\\indexes\\base.py:6999: FutureWarning: In a future version, the Index constructor will not infer numeric dtypes when passed object-dtype sequences (matching Series behavior)\n",
      "  return Index(sequences[0], name=names)\n"
     ]
    }
   ],
   "source": [
    "hispanicDfFix.set_index('Year')\n",
    "hispanicDfFix[\"Year\"] = hispanicDfFix[\"Year\"].astype(int)\n",
    "hispanicDfFix[\"Father only\"] = hispanicDfFix[\"Father only\"].astype(int)"
   ]
  },
  {
   "cell_type": "code",
   "execution_count": 235,
   "id": "0ad30ad2",
   "metadata": {},
   "outputs": [
    {
     "data": {
      "image/png": "[encoded data removed]",
      "text/plain": [
       "<Figure size 640x480 with 1 Axes>"
      ]
     },
     "metadata": {},
     "output_type": "display_data"
    }
   ],
   "source": [
    "plt.bar(hispanicDfFix[\"Year\"], hispanicDfFix[\"Father only\"])\n",
    "plt.xlabel(\"Year\")\n",
    "plt.ylabel(\"Father only\")\n",
    "plt.xticks(hispanicDfFix[\"Year\"])\n",
    "plt.xticks(rotation=45)\n",
    "plt.show()"
   ]
  }
 ],
 "metadata": {
  "kernelspec": {
   "display_name": "Python 3 (ipykernel)",
   "language": "python",
   "name": "python3"
  },
  "language_info": {
   "codemirror_mode": {
    "name": "ipython",
    "version": 3
   },
   "file_extension": ".py",
   "mimetype": "text/x-python",
   "name": "python",
   "nbconvert_exporter": "python",
   "pygments_lexer": "ipython3",
   "version": "3.9.13"
  }
 },
 "nbformat": 4,
 "nbformat_minor": 5
}
