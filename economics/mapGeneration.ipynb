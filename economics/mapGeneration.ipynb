{
 "cells": [
  {
   "cell_type": "code",
   "execution_count": 1,
   "id": "6e820559",
   "metadata": {},
   "outputs": [],
   "source": [
    "import pandas as pd\n",
    "from concurrent.futures import ThreadPoolExecutor\n",
    "import plotly.graph_objects as go"
   ]
  },
  {
   "cell_type": "code",
   "execution_count": 2,
   "id": "e2adce15",
   "metadata": {},
   "outputs": [],
   "source": [
    "#Loops through USA States on Google open Data by location key and downloads data concurrently \n",
    "#Prints error and error code if iteration is failed\n",
    "def googleDataCall(state):\n",
    "    try:\n",
    "        url = f\"https://storage.googleapis.com/covid19-open-data/v3/location/US_{state}.csv\"\n",
    "        state_data = pd.read_csv(url)\n",
    "        return state_data\n",
    "    except Exception as e:\n",
    "        print(f\"Failed to download data for state: {state}. Error: {e}\")\n",
    "\n",
    "\n",
    "states = [\"AL\", \"AK\", \"AZ\", \"AR\", \"CA\", \"CO\", \"CT\", \"DC\", \"DE\", \"FL\", \"GA\", \"HI\", \"ID\", \"IL\", \"IN\", \"IA\", \"KS\", \"KY\", \"LA\", \"ME\", \"MD\", \"MA\", \"MI\", \"MN\", \"MS\", \"MO\", \"MT\", \"NE\", \"NV\", \"NH\", \"NJ\", \"NM\", \"NY\", \"NC\", \"ND\", \"OH\", \"OK\", \"OR\", \"PA\", \"RI\", \"SC\", \"SD\", \"TN\", \"TX\", \"UT\", \"VT\", \"VA\", \"WA\", \"WV\", \"WI\", \"WY\"]\n",
    "#Makes data extraction concurrent instead of simultaneous\n",
    "with ThreadPoolExecutor() as executor:\n",
    "    googleDl = list(executor.map(googleDataCall, states))\n",
    "    googleData = pd.concat(googleDl, ignore_index=True)\n",
    "#This is the data filter, removing columns deemed unnecessary \n",
    "unusedColumns = list(googleData.columns[2:7]) + list(googleData.columns[47:65]) + list(googleData.columns[67:75]) + list(googleData.columns[108:614])\n",
    "usaData = googleData.drop(unusedColumns, axis=1)\n",
    "\n",
    "  "
   ]
  },
  {
   "cell_type": "code",
   "execution_count": 12,
   "id": "c826d89a",
   "metadata": {},
   "outputs": [],
   "source": [
    "#usaData"
   ]
  },
  {
   "cell_type": "code",
   "execution_count": 4,
   "id": "8471a42f",
   "metadata": {},
   "outputs": [],
   "source": [
    "DeadDf = usaData[['date', 'cumulative_confirmed', 'cumulative_persons_vaccinated', 'cumulative_deceased', 'subregion1_code','stringency_index']]\n",
    "cleanDeadDf = DeadDf.copy() \n",
    "cleanDeadDf = cleanDeadDf.interpolate()\n",
    "cleanDeadDf.fillna(0 , inplace=True)\n"
   ]
  },
  {
   "cell_type": "code",
   "execution_count": 15,
   "id": "42a9d35c",
   "metadata": {},
   "outputs": [],
   "source": [
    "fig = go.Figure(data=go.Choropleth(\n",
    "    locations=cleanDeadDf['subregion1_code'], \n",
    "    z = cleanDeadDf['cumulative_deceased'].astype(float),\n",
    "    locationmode = 'USA-states', \n",
    "    colorscale = 'Reds',\n",
    "    colorbar_title = \"COVID Death\",\n",
    "))\n",
    "\n",
    "fig.update_layout(\n",
    "    title_text = 'COVID Death Map JAN2020-MAR2022',\n",
    "    geo_scope='usa',\n",
    ")\n",
    "fig.write_image(\"images/USAcovidDeathMap.png\")"
   ]
  },
  {
   "cell_type": "code",
   "execution_count": 16,
   "id": "b0ce50c8",
   "metadata": {},
   "outputs": [],
   "source": [
    "fig = go.Figure(data=go.Choropleth(\n",
    "    locations=cleanDeadDf['subregion1_code'], \n",
    "    z = cleanDeadDf['cumulative_persons_vaccinated'].astype(float), \n",
    "    locationmode = 'USA-states',\n",
    "    colorscale = 'Reds',\n",
    "    colorbar_title = \"COVID Vaccinations\",\n",
    "))\n",
    "\n",
    "fig.update_layout(\n",
    "    title_text = 'COVID Vaccination Map JAN2020-MAR2022',\n",
    "    geo_scope='usa',\n",
    ")\n",
    "fig.write_image(\"images/USAcovidVaccMap.png\")"
   ]
  },
  {
   "cell_type": "markdown",
   "id": "e6c6bf39",
   "metadata": {},
   "source": [
    "Birth State Map Creation"
   ]
  },
  {
   "cell_type": "code",
   "execution_count": 17,
   "id": "f9aed435",
   "metadata": {},
   "outputs": [],
   "source": [
    "stateFert = pd.read_csv(\"data/data-table.csv\")"
   ]
  },
  {
   "cell_type": "code",
   "execution_count": 18,
   "id": "5d78d328",
   "metadata": {},
   "outputs": [],
   "source": [
    "stateFert2021 = stateFert[0:50]\n",
    "stateFert2020 = stateFert[50:100]\n",
    "stateFert2019 = stateFert[100:151]"
   ]
  },
  {
   "cell_type": "code",
   "execution_count": 19,
   "id": "b22808c4",
   "metadata": {},
   "outputs": [],
   "source": [
    "fig = go.Figure(data=go.Choropleth(\n",
    "    locations=stateFert2019['STATE'], \n",
    "    z = stateFert2019['BIRTHS'].astype(float), \n",
    "    locationmode = 'USA-states',\n",
    "    colorscale = 'algae',\n",
    "    colorbar_title = \"2019 Births\",\n",
    "))\n",
    "\n",
    "fig.update_layout(\n",
    "    title_text = '2019 Births by State',\n",
    "    geo_scope='usa',\n",
    ")\n",
    "fig.write_image(\"images/USA2019BirthMap.png\")"
   ]
  },
  {
   "cell_type": "code",
   "execution_count": 20,
   "id": "71909a1e",
   "metadata": {},
   "outputs": [],
   "source": [
    "fig = go.Figure(data=go.Choropleth(\n",
    "    locations=stateFert2020['STATE'], \n",
    "    z = stateFert2020['BIRTHS'].astype(float), \n",
    "    locationmode = 'USA-states',\n",
    "    colorscale = 'algae',\n",
    "    colorbar_title = \"2020 Births\",\n",
    "))\n",
    "\n",
    "fig.update_layout(\n",
    "    title_text = '2020 Births by State',\n",
    "    geo_scope='usa',\n",
    ")\n",
    "fig.write_image(\"images/USA2020BirthMap.png\")"
   ]
  },
  {
   "cell_type": "code",
   "execution_count": 21,
   "id": "db4e355f",
   "metadata": {},
   "outputs": [],
   "source": [
    "fig = go.Figure(data=go.Choropleth(\n",
    "    locations=stateFert2021['STATE'], \n",
    "    z = stateFert2021['BIRTHS'].astype(float), \n",
    "    locationmode = 'USA-states',\n",
    "    colorscale = 'algae',\n",
    "    colorbar_title = \"2021 Births\",\n",
    "))\n",
    "\n",
    "fig.update_layout(\n",
    "    title_text = '2021 Births by State',\n",
    "    geo_scope='usa',\n",
    ")\n",
    "fig.write_image(\"images/USA2021BirthMap.png\")"
   ]
  }
 ],
 "metadata": {
  "kernelspec": {
   "display_name": "Python 3 (ipykernel)",
   "language": "python",
   "name": "python3"
  },
  "language_info": {
   "codemirror_mode": {
    "name": "ipython",
    "version": 3
   },
   "file_extension": ".py",
   "mimetype": "text/x-python",
   "name": "python",
   "nbconvert_exporter": "python",
   "pygments_lexer": "ipython3",
   "version": "3.11.3"
  }
 },
 "nbformat": 4,
 "nbformat_minor": 5
}
